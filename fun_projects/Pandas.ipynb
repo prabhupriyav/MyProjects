{
 "cells": [
  {
   "cell_type": "code",
   "execution_count": 3,
   "id": "0da2c046-41df-49a8-b54c-1fdbc6de919a",
   "metadata": {},
   "outputs": [],
   "source": [
    "import pandas as pd\n",
    "import numpy as np\n",
    "import matplotlib.pyplot as plt"
   ]
  },
  {
   "cell_type": "code",
   "execution_count": 7,
   "id": "9ee93ee5-d185-47b2-a0a8-646f882ba428",
   "metadata": {},
   "outputs": [
    {
     "data": {
      "text/plain": [
       "(80543, 5)"
      ]
     },
     "execution_count": 7,
     "metadata": {},
     "output_type": "execute_result"
    }
   ],
   "source": [
    "ufo = pd.read_csv('./data/ufo copy.csv')\n",
    "ufo.shape"
   ]
  },
  {
   "cell_type": "code",
   "execution_count": 8,
   "id": "67fd6c15-da94-4734-bddb-387c9927af23",
   "metadata": {},
   "outputs": [
    {
     "data": {
      "text/plain": [
       "City                  47\n",
       "Colors Reported    63509\n",
       "Shape Reported      8402\n",
       "State                  0\n",
       "Time                   0\n",
       "dtype: int64"
      ]
     },
     "execution_count": 8,
     "metadata": {},
     "output_type": "execute_result"
    }
   ],
   "source": [
    "ufo.isnull().sum()"
   ]
  },
  {
   "cell_type": "code",
   "execution_count": 12,
   "id": "5de31435-4e63-4ce4-a17e-ce9e5c50ef3e",
   "metadata": {},
   "outputs": [
    {
     "data": {
      "text/plain": [
       "Index(['City', 'Colors Reported', 'Shape Reported', 'State', 'Time'], dtype='object')"
      ]
     },
     "execution_count": 12,
     "metadata": {},
     "output_type": "execute_result"
    }
   ],
   "source": [
    "ufo.columns\n"
   ]
  },
  {
   "cell_type": "code",
   "execution_count": 13,
   "id": "b7dc69a7-5a2e-4087-a383-d75865c520c8",
   "metadata": {},
   "outputs": [
    {
     "data": {
      "text/html": [
       "<div>\n",
       "<style scoped>\n",
       "    .dataframe tbody tr th:only-of-type {\n",
       "        vertical-align: middle;\n",
       "    }\n",
       "\n",
       "    .dataframe tbody tr th {\n",
       "        vertical-align: top;\n",
       "    }\n",
       "\n",
       "    .dataframe thead th {\n",
       "        text-align: right;\n",
       "    }\n",
       "</style>\n",
       "<table border=\"1\" class=\"dataframe\">\n",
       "  <thead>\n",
       "    <tr style=\"text-align: right;\">\n",
       "      <th></th>\n",
       "      <th>City</th>\n",
       "      <th>Colors Reported</th>\n",
       "      <th>Shape Reported</th>\n",
       "      <th>State</th>\n",
       "      <th>Time</th>\n",
       "    </tr>\n",
       "  </thead>\n",
       "  <tbody>\n",
       "    <tr>\n",
       "      <th>0</th>\n",
       "      <td>Ithaca</td>\n",
       "      <td>NaN</td>\n",
       "      <td>TRIANGLE</td>\n",
       "      <td>NY</td>\n",
       "      <td>6/1/1930 22:00</td>\n",
       "    </tr>\n",
       "    <tr>\n",
       "      <th>1</th>\n",
       "      <td>Willingboro</td>\n",
       "      <td>NaN</td>\n",
       "      <td>OTHER</td>\n",
       "      <td>NJ</td>\n",
       "      <td>6/30/1930 20:00</td>\n",
       "    </tr>\n",
       "    <tr>\n",
       "      <th>2</th>\n",
       "      <td>Holyoke</td>\n",
       "      <td>NaN</td>\n",
       "      <td>OVAL</td>\n",
       "      <td>CO</td>\n",
       "      <td>2/15/1931 14:00</td>\n",
       "    </tr>\n",
       "    <tr>\n",
       "      <th>3</th>\n",
       "      <td>Abilene</td>\n",
       "      <td>NaN</td>\n",
       "      <td>DISK</td>\n",
       "      <td>KS</td>\n",
       "      <td>6/1/1931 13:00</td>\n",
       "    </tr>\n",
       "    <tr>\n",
       "      <th>4</th>\n",
       "      <td>New York Worlds Fair</td>\n",
       "      <td>NaN</td>\n",
       "      <td>LIGHT</td>\n",
       "      <td>NY</td>\n",
       "      <td>4/18/1933 19:00</td>\n",
       "    </tr>\n",
       "  </tbody>\n",
       "</table>\n",
       "</div>"
      ],
      "text/plain": [
       "                   City Colors Reported Shape Reported State             Time\n",
       "0                Ithaca             NaN       TRIANGLE    NY   6/1/1930 22:00\n",
       "1           Willingboro             NaN          OTHER    NJ  6/30/1930 20:00\n",
       "2               Holyoke             NaN           OVAL    CO  2/15/1931 14:00\n",
       "3               Abilene             NaN           DISK    KS   6/1/1931 13:00\n",
       "4  New York Worlds Fair             NaN          LIGHT    NY  4/18/1933 19:00"
      ]
     },
     "execution_count": 13,
     "metadata": {},
     "output_type": "execute_result"
    }
   ],
   "source": [
    "ufo.head(5)"
   ]
  },
  {
   "cell_type": "code",
   "execution_count": 14,
   "id": "bea71e46-b2e3-4559-b8c4-ccd6e9d455fd",
   "metadata": {},
   "outputs": [
    {
     "data": {
      "text/html": [
       "<div>\n",
       "<style scoped>\n",
       "    .dataframe tbody tr th:only-of-type {\n",
       "        vertical-align: middle;\n",
       "    }\n",
       "\n",
       "    .dataframe tbody tr th {\n",
       "        vertical-align: top;\n",
       "    }\n",
       "\n",
       "    .dataframe thead th {\n",
       "        text-align: right;\n",
       "    }\n",
       "</style>\n",
       "<table border=\"1\" class=\"dataframe\">\n",
       "  <thead>\n",
       "    <tr style=\"text-align: right;\">\n",
       "      <th></th>\n",
       "      <th>City</th>\n",
       "      <th>Colors Reported</th>\n",
       "      <th>Shape Reported</th>\n",
       "      <th>State</th>\n",
       "      <th>Time</th>\n",
       "    </tr>\n",
       "  </thead>\n",
       "  <tbody>\n",
       "    <tr>\n",
       "      <th>80538</th>\n",
       "      <td>Neligh</td>\n",
       "      <td>NaN</td>\n",
       "      <td>CIRCLE</td>\n",
       "      <td>NE</td>\n",
       "      <td>9/4/2014 23:20</td>\n",
       "    </tr>\n",
       "    <tr>\n",
       "      <th>80539</th>\n",
       "      <td>Uhrichsville</td>\n",
       "      <td>NaN</td>\n",
       "      <td>LIGHT</td>\n",
       "      <td>OH</td>\n",
       "      <td>9/5/2014 1:14</td>\n",
       "    </tr>\n",
       "    <tr>\n",
       "      <th>80540</th>\n",
       "      <td>Tucson</td>\n",
       "      <td>RED BLUE</td>\n",
       "      <td>NaN</td>\n",
       "      <td>AZ</td>\n",
       "      <td>9/5/2014 2:40</td>\n",
       "    </tr>\n",
       "    <tr>\n",
       "      <th>80541</th>\n",
       "      <td>Orland park</td>\n",
       "      <td>RED</td>\n",
       "      <td>LIGHT</td>\n",
       "      <td>IL</td>\n",
       "      <td>9/5/2014 3:43</td>\n",
       "    </tr>\n",
       "    <tr>\n",
       "      <th>80542</th>\n",
       "      <td>Loughman</td>\n",
       "      <td>NaN</td>\n",
       "      <td>LIGHT</td>\n",
       "      <td>FL</td>\n",
       "      <td>9/5/2014 5:30</td>\n",
       "    </tr>\n",
       "  </tbody>\n",
       "</table>\n",
       "</div>"
      ],
      "text/plain": [
       "               City Colors Reported Shape Reported State            Time\n",
       "80538        Neligh             NaN         CIRCLE    NE  9/4/2014 23:20\n",
       "80539  Uhrichsville             NaN          LIGHT    OH   9/5/2014 1:14\n",
       "80540        Tucson        RED BLUE            NaN    AZ   9/5/2014 2:40\n",
       "80541   Orland park             RED          LIGHT    IL   9/5/2014 3:43\n",
       "80542      Loughman             NaN          LIGHT    FL   9/5/2014 5:30"
      ]
     },
     "execution_count": 14,
     "metadata": {},
     "output_type": "execute_result"
    }
   ],
   "source": [
    "ufo.tail(5)"
   ]
  },
  {
   "cell_type": "code",
   "execution_count": 20,
   "id": "c81246b0-651c-4c65-9899-ca18497780b6",
   "metadata": {},
   "outputs": [
    {
     "data": {
      "text/html": [
       "<div>\n",
       "<style scoped>\n",
       "    .dataframe tbody tr th:only-of-type {\n",
       "        vertical-align: middle;\n",
       "    }\n",
       "\n",
       "    .dataframe tbody tr th {\n",
       "        vertical-align: top;\n",
       "    }\n",
       "\n",
       "    .dataframe thead th {\n",
       "        text-align: right;\n",
       "    }\n",
       "</style>\n",
       "<table border=\"1\" class=\"dataframe\">\n",
       "  <thead>\n",
       "    <tr style=\"text-align: right;\">\n",
       "      <th></th>\n",
       "      <th>State</th>\n",
       "      <th>City</th>\n",
       "    </tr>\n",
       "  </thead>\n",
       "  <tbody>\n",
       "    <tr>\n",
       "      <th>0</th>\n",
       "      <td>NY</td>\n",
       "      <td>Ithaca</td>\n",
       "    </tr>\n",
       "    <tr>\n",
       "      <th>1</th>\n",
       "      <td>NJ</td>\n",
       "      <td>Willingboro</td>\n",
       "    </tr>\n",
       "    <tr>\n",
       "      <th>2</th>\n",
       "      <td>CO</td>\n",
       "      <td>Holyoke</td>\n",
       "    </tr>\n",
       "    <tr>\n",
       "      <th>3</th>\n",
       "      <td>KS</td>\n",
       "      <td>Abilene</td>\n",
       "    </tr>\n",
       "    <tr>\n",
       "      <th>4</th>\n",
       "      <td>NY</td>\n",
       "      <td>New York Worlds Fair</td>\n",
       "    </tr>\n",
       "    <tr>\n",
       "      <th>...</th>\n",
       "      <td>...</td>\n",
       "      <td>...</td>\n",
       "    </tr>\n",
       "    <tr>\n",
       "      <th>80538</th>\n",
       "      <td>NE</td>\n",
       "      <td>Neligh</td>\n",
       "    </tr>\n",
       "    <tr>\n",
       "      <th>80539</th>\n",
       "      <td>OH</td>\n",
       "      <td>Uhrichsville</td>\n",
       "    </tr>\n",
       "    <tr>\n",
       "      <th>80540</th>\n",
       "      <td>AZ</td>\n",
       "      <td>Tucson</td>\n",
       "    </tr>\n",
       "    <tr>\n",
       "      <th>80541</th>\n",
       "      <td>IL</td>\n",
       "      <td>Orland park</td>\n",
       "    </tr>\n",
       "    <tr>\n",
       "      <th>80542</th>\n",
       "      <td>FL</td>\n",
       "      <td>Loughman</td>\n",
       "    </tr>\n",
       "  </tbody>\n",
       "</table>\n",
       "<p>80543 rows × 2 columns</p>\n",
       "</div>"
      ],
      "text/plain": [
       "      State                  City\n",
       "0        NY                Ithaca\n",
       "1        NJ           Willingboro\n",
       "2        CO               Holyoke\n",
       "3        KS               Abilene\n",
       "4        NY  New York Worlds Fair\n",
       "...     ...                   ...\n",
       "80538    NE                Neligh\n",
       "80539    OH          Uhrichsville\n",
       "80540    AZ                Tucson\n",
       "80541    IL           Orland park\n",
       "80542    FL              Loughman\n",
       "\n",
       "[80543 rows x 2 columns]"
      ]
     },
     "execution_count": 20,
     "metadata": {},
     "output_type": "execute_result"
    }
   ],
   "source": [
    "### displays the output as Dataframe (double [[]]})\n",
    "ufo[['State','City']]"
   ]
  },
  {
   "cell_type": "code",
   "execution_count": 22,
   "id": "9695ec1d-18eb-4c81-ae53-2f15e79dd296",
   "metadata": {},
   "outputs": [
    {
     "data": {
      "text/plain": [
       "0        NY\n",
       "1        NJ\n",
       "2        CO\n",
       "3        KS\n",
       "4        NY\n",
       "         ..\n",
       "80538    NE\n",
       "80539    OH\n",
       "80540    AZ\n",
       "80541    IL\n",
       "80542    FL\n",
       "Name: State, Length: 80543, dtype: object"
      ]
     },
     "execution_count": 22,
     "metadata": {},
     "output_type": "execute_result"
    }
   ],
   "source": [
    "#Displays the output as series, we can use the series data to process further([]) - doesnt work for multiple columns\n",
    "ufo['State']"
   ]
  },
  {
   "cell_type": "code",
   "execution_count": 23,
   "id": "f5a4ab77-2f65-4e3a-966a-d7c38659fa98",
   "metadata": {},
   "outputs": [
    {
     "name": "stdout",
     "output_type": "stream",
     "text": [
      "<class 'pandas.core.frame.DataFrame'>\n",
      "RangeIndex: 80543 entries, 0 to 80542\n",
      "Data columns (total 5 columns):\n",
      " #   Column           Non-Null Count  Dtype \n",
      "---  ------           --------------  ----- \n",
      " 0   City             80496 non-null  object\n",
      " 1   Colors Reported  17034 non-null  object\n",
      " 2   Shape Reported   72141 non-null  object\n",
      " 3   State            80543 non-null  object\n",
      " 4   Time             80543 non-null  object\n",
      "dtypes: object(5)\n",
      "memory usage: 3.1+ MB\n"
     ]
    }
   ],
   "source": [
    "ufo.info()"
   ]
  },
  {
   "cell_type": "code",
   "execution_count": 24,
   "id": "e7f369ca-c2e5-4a78-9305-c84672e377a7",
   "metadata": {},
   "outputs": [
    {
     "data": {
      "text/html": [
       "<div>\n",
       "<style scoped>\n",
       "    .dataframe tbody tr th:only-of-type {\n",
       "        vertical-align: middle;\n",
       "    }\n",
       "\n",
       "    .dataframe tbody tr th {\n",
       "        vertical-align: top;\n",
       "    }\n",
       "\n",
       "    .dataframe thead th {\n",
       "        text-align: right;\n",
       "    }\n",
       "</style>\n",
       "<table border=\"1\" class=\"dataframe\">\n",
       "  <thead>\n",
       "    <tr style=\"text-align: right;\">\n",
       "      <th></th>\n",
       "      <th>City</th>\n",
       "      <th>Colors Reported</th>\n",
       "      <th>Shape Reported</th>\n",
       "      <th>State</th>\n",
       "      <th>Time</th>\n",
       "    </tr>\n",
       "  </thead>\n",
       "  <tbody>\n",
       "    <tr>\n",
       "      <th>count</th>\n",
       "      <td>80496</td>\n",
       "      <td>17034</td>\n",
       "      <td>72141</td>\n",
       "      <td>80543</td>\n",
       "      <td>80543</td>\n",
       "    </tr>\n",
       "    <tr>\n",
       "      <th>unique</th>\n",
       "      <td>13504</td>\n",
       "      <td>31</td>\n",
       "      <td>27</td>\n",
       "      <td>52</td>\n",
       "      <td>68901</td>\n",
       "    </tr>\n",
       "    <tr>\n",
       "      <th>top</th>\n",
       "      <td>Seattle</td>\n",
       "      <td>ORANGE</td>\n",
       "      <td>LIGHT</td>\n",
       "      <td>CA</td>\n",
       "      <td>7/4/2014 22:00</td>\n",
       "    </tr>\n",
       "    <tr>\n",
       "      <th>freq</th>\n",
       "      <td>646</td>\n",
       "      <td>5216</td>\n",
       "      <td>16332</td>\n",
       "      <td>10743</td>\n",
       "      <td>45</td>\n",
       "    </tr>\n",
       "  </tbody>\n",
       "</table>\n",
       "</div>"
      ],
      "text/plain": [
       "           City Colors Reported Shape Reported  State            Time\n",
       "count     80496           17034          72141  80543           80543\n",
       "unique    13504              31             27     52           68901\n",
       "top     Seattle          ORANGE          LIGHT     CA  7/4/2014 22:00\n",
       "freq        646            5216          16332  10743              45"
      ]
     },
     "execution_count": 24,
     "metadata": {},
     "output_type": "execute_result"
    }
   ],
   "source": [
    "ufo.describe()"
   ]
  },
  {
   "cell_type": "code",
   "execution_count": 31,
   "id": "b9551ca0-5f50-4e0c-afe8-dd5d28de2916",
   "metadata": {},
   "outputs": [],
   "source": [
    "diamonds = pd.read_csv('./data/diamonds.csv')"
   ]
  },
  {
   "cell_type": "code",
   "execution_count": 32,
   "id": "5a6d9ae6-c8cf-40e7-a9c3-deb3f2468375",
   "metadata": {},
   "outputs": [
    {
     "data": {
      "text/html": [
       "<div>\n",
       "<style scoped>\n",
       "    .dataframe tbody tr th:only-of-type {\n",
       "        vertical-align: middle;\n",
       "    }\n",
       "\n",
       "    .dataframe tbody tr th {\n",
       "        vertical-align: top;\n",
       "    }\n",
       "\n",
       "    .dataframe thead th {\n",
       "        text-align: right;\n",
       "    }\n",
       "</style>\n",
       "<table border=\"1\" class=\"dataframe\">\n",
       "  <thead>\n",
       "    <tr style=\"text-align: right;\">\n",
       "      <th></th>\n",
       "      <th>carat</th>\n",
       "      <th>depth</th>\n",
       "      <th>table</th>\n",
       "      <th>price</th>\n",
       "      <th>x</th>\n",
       "      <th>y</th>\n",
       "      <th>z</th>\n",
       "    </tr>\n",
       "  </thead>\n",
       "  <tbody>\n",
       "    <tr>\n",
       "      <th>count</th>\n",
       "      <td>53940.000000</td>\n",
       "      <td>53940.000000</td>\n",
       "      <td>53940.000000</td>\n",
       "      <td>53940.000000</td>\n",
       "      <td>53940.000000</td>\n",
       "      <td>53940.000000</td>\n",
       "      <td>53940.000000</td>\n",
       "    </tr>\n",
       "    <tr>\n",
       "      <th>mean</th>\n",
       "      <td>0.797940</td>\n",
       "      <td>61.749405</td>\n",
       "      <td>57.457184</td>\n",
       "      <td>3932.799722</td>\n",
       "      <td>5.731157</td>\n",
       "      <td>5.734526</td>\n",
       "      <td>3.538734</td>\n",
       "    </tr>\n",
       "    <tr>\n",
       "      <th>std</th>\n",
       "      <td>0.474011</td>\n",
       "      <td>1.432621</td>\n",
       "      <td>2.234491</td>\n",
       "      <td>3989.439738</td>\n",
       "      <td>1.121761</td>\n",
       "      <td>1.142135</td>\n",
       "      <td>0.705699</td>\n",
       "    </tr>\n",
       "    <tr>\n",
       "      <th>min</th>\n",
       "      <td>0.200000</td>\n",
       "      <td>43.000000</td>\n",
       "      <td>43.000000</td>\n",
       "      <td>326.000000</td>\n",
       "      <td>0.000000</td>\n",
       "      <td>0.000000</td>\n",
       "      <td>0.000000</td>\n",
       "    </tr>\n",
       "    <tr>\n",
       "      <th>25%</th>\n",
       "      <td>0.400000</td>\n",
       "      <td>61.000000</td>\n",
       "      <td>56.000000</td>\n",
       "      <td>950.000000</td>\n",
       "      <td>4.710000</td>\n",
       "      <td>4.720000</td>\n",
       "      <td>2.910000</td>\n",
       "    </tr>\n",
       "    <tr>\n",
       "      <th>50%</th>\n",
       "      <td>0.700000</td>\n",
       "      <td>61.800000</td>\n",
       "      <td>57.000000</td>\n",
       "      <td>2401.000000</td>\n",
       "      <td>5.700000</td>\n",
       "      <td>5.710000</td>\n",
       "      <td>3.530000</td>\n",
       "    </tr>\n",
       "    <tr>\n",
       "      <th>75%</th>\n",
       "      <td>1.040000</td>\n",
       "      <td>62.500000</td>\n",
       "      <td>59.000000</td>\n",
       "      <td>5324.250000</td>\n",
       "      <td>6.540000</td>\n",
       "      <td>6.540000</td>\n",
       "      <td>4.040000</td>\n",
       "    </tr>\n",
       "    <tr>\n",
       "      <th>max</th>\n",
       "      <td>5.010000</td>\n",
       "      <td>79.000000</td>\n",
       "      <td>95.000000</td>\n",
       "      <td>18823.000000</td>\n",
       "      <td>10.740000</td>\n",
       "      <td>58.900000</td>\n",
       "      <td>31.800000</td>\n",
       "    </tr>\n",
       "  </tbody>\n",
       "</table>\n",
       "</div>"
      ],
      "text/plain": [
       "              carat         depth         table         price             x  \\\n",
       "count  53940.000000  53940.000000  53940.000000  53940.000000  53940.000000   \n",
       "mean       0.797940     61.749405     57.457184   3932.799722      5.731157   \n",
       "std        0.474011      1.432621      2.234491   3989.439738      1.121761   \n",
       "min        0.200000     43.000000     43.000000    326.000000      0.000000   \n",
       "25%        0.400000     61.000000     56.000000    950.000000      4.710000   \n",
       "50%        0.700000     61.800000     57.000000   2401.000000      5.700000   \n",
       "75%        1.040000     62.500000     59.000000   5324.250000      6.540000   \n",
       "max        5.010000     79.000000     95.000000  18823.000000     10.740000   \n",
       "\n",
       "                  y             z  \n",
       "count  53940.000000  53940.000000  \n",
       "mean       5.734526      3.538734  \n",
       "std        1.142135      0.705699  \n",
       "min        0.000000      0.000000  \n",
       "25%        4.720000      2.910000  \n",
       "50%        5.710000      3.530000  \n",
       "75%        6.540000      4.040000  \n",
       "max       58.900000     31.800000  "
      ]
     },
     "execution_count": 32,
     "metadata": {},
     "output_type": "execute_result"
    }
   ],
   "source": [
    "diamonds.describe()"
   ]
  },
  {
   "cell_type": "markdown",
   "id": "81b52a2b-f05e-47f2-8322-846b6c743d7f",
   "metadata": {},
   "source": [
    ".describe() gives us these statistics:\n",
    "\n",
    "* count, which is equivalent to the number of cells (rows)\n",
    "* mean, the average of the values in the column\n",
    "* std, which is the standard deviation\n",
    "* min, the minimum value\n",
    "* 25%, the 25th percentile of the values\n",
    "* 50%, the 50th percentile of the values, which is the equivalent to the median\n",
    "* 75%, the 75th percentile of the values\n",
    "* max, the maximum value\n",
    "\n",
    "There are built-in math functions that will work on all of the columns of a DataFrame at once, or subsets of the data."
   ]
  },
  {
   "cell_type": "code",
   "execution_count": 33,
   "id": "f10921aa-8dc5-4ecc-a38c-cbff9ac5275f",
   "metadata": {},
   "outputs": [],
   "source": [
    "cars = pd.read_csv('./data/cars.csv')"
   ]
  },
  {
   "cell_type": "code",
   "execution_count": 34,
   "id": "c44e8b3a-70a8-44b7-86bc-d2dd5c567720",
   "metadata": {},
   "outputs": [
    {
     "data": {
      "text/html": [
       "<div>\n",
       "<style scoped>\n",
       "    .dataframe tbody tr th:only-of-type {\n",
       "        vertical-align: middle;\n",
       "    }\n",
       "\n",
       "    .dataframe tbody tr th {\n",
       "        vertical-align: top;\n",
       "    }\n",
       "\n",
       "    .dataframe thead th {\n",
       "        text-align: right;\n",
       "    }\n",
       "</style>\n",
       "<table border=\"1\" class=\"dataframe\">\n",
       "  <thead>\n",
       "    <tr style=\"text-align: right;\">\n",
       "      <th></th>\n",
       "      <th>mpg</th>\n",
       "      <th>cyl</th>\n",
       "      <th>disp</th>\n",
       "      <th>hp</th>\n",
       "      <th>drat</th>\n",
       "      <th>wt</th>\n",
       "      <th>qsec</th>\n",
       "      <th>vs</th>\n",
       "      <th>am</th>\n",
       "      <th>gear</th>\n",
       "      <th>carb</th>\n",
       "    </tr>\n",
       "  </thead>\n",
       "  <tbody>\n",
       "    <tr>\n",
       "      <th>0</th>\n",
       "      <td>21.0</td>\n",
       "      <td>6</td>\n",
       "      <td>160.0</td>\n",
       "      <td>110</td>\n",
       "      <td>3.90</td>\n",
       "      <td>2.620</td>\n",
       "      <td>16.46</td>\n",
       "      <td>0</td>\n",
       "      <td>1</td>\n",
       "      <td>4</td>\n",
       "      <td>4</td>\n",
       "    </tr>\n",
       "    <tr>\n",
       "      <th>1</th>\n",
       "      <td>21.0</td>\n",
       "      <td>6</td>\n",
       "      <td>160.0</td>\n",
       "      <td>110</td>\n",
       "      <td>3.90</td>\n",
       "      <td>2.875</td>\n",
       "      <td>17.02</td>\n",
       "      <td>0</td>\n",
       "      <td>1</td>\n",
       "      <td>4</td>\n",
       "      <td>4</td>\n",
       "    </tr>\n",
       "    <tr>\n",
       "      <th>2</th>\n",
       "      <td>22.8</td>\n",
       "      <td>4</td>\n",
       "      <td>108.0</td>\n",
       "      <td>93</td>\n",
       "      <td>3.85</td>\n",
       "      <td>2.320</td>\n",
       "      <td>18.61</td>\n",
       "      <td>1</td>\n",
       "      <td>1</td>\n",
       "      <td>4</td>\n",
       "      <td>1</td>\n",
       "    </tr>\n",
       "    <tr>\n",
       "      <th>3</th>\n",
       "      <td>21.4</td>\n",
       "      <td>6</td>\n",
       "      <td>258.0</td>\n",
       "      <td>110</td>\n",
       "      <td>3.08</td>\n",
       "      <td>3.215</td>\n",
       "      <td>19.44</td>\n",
       "      <td>1</td>\n",
       "      <td>0</td>\n",
       "      <td>3</td>\n",
       "      <td>1</td>\n",
       "    </tr>\n",
       "    <tr>\n",
       "      <th>4</th>\n",
       "      <td>18.7</td>\n",
       "      <td>8</td>\n",
       "      <td>360.0</td>\n",
       "      <td>175</td>\n",
       "      <td>3.15</td>\n",
       "      <td>3.440</td>\n",
       "      <td>17.02</td>\n",
       "      <td>0</td>\n",
       "      <td>0</td>\n",
       "      <td>3</td>\n",
       "      <td>2</td>\n",
       "    </tr>\n",
       "  </tbody>\n",
       "</table>\n",
       "</div>"
      ],
      "text/plain": [
       "    mpg  cyl   disp   hp  drat     wt   qsec  vs  am  gear  carb\n",
       "0  21.0    6  160.0  110  3.90  2.620  16.46   0   1     4     4\n",
       "1  21.0    6  160.0  110  3.90  2.875  17.02   0   1     4     4\n",
       "2  22.8    4  108.0   93  3.85  2.320  18.61   1   1     4     1\n",
       "3  21.4    6  258.0  110  3.08  3.215  19.44   1   0     3     1\n",
       "4  18.7    8  360.0  175  3.15  3.440  17.02   0   0     3     2"
      ]
     },
     "execution_count": 34,
     "metadata": {},
     "output_type": "execute_result"
    }
   ],
   "source": [
    "cars.head(5)"
   ]
  },
  {
   "cell_type": "code",
   "execution_count": 43,
   "id": "51dec494-f98c-4d64-86af-91f79f296be9",
   "metadata": {},
   "outputs": [
    {
     "data": {
      "text/plain": [
       "20.090624999999996"
      ]
     },
     "execution_count": 43,
     "metadata": {},
     "output_type": "execute_result"
    }
   ],
   "source": [
    "cars['mpg'].mean()"
   ]
  },
  {
   "cell_type": "code",
   "execution_count": 44,
   "id": "29db2bee-4295-49dc-9640-d7bb1163ec8c",
   "metadata": {},
   "outputs": [
    {
     "data": {
      "text/plain": [
       "6.026948052089105"
      ]
     },
     "execution_count": 44,
     "metadata": {},
     "output_type": "execute_result"
    }
   ],
   "source": [
    "cars['mpg'].std()\n"
   ]
  },
  {
   "cell_type": "code",
   "execution_count": 49,
   "id": "cf769f54-3b67-4274-9bed-e4e90e8dc556",
   "metadata": {},
   "outputs": [
    {
     "data": {
      "text/plain": [
       "19.14"
      ]
     },
     "execution_count": 49,
     "metadata": {},
     "output_type": "execute_result"
    }
   ],
   "source": [
    "##interview question - 48th percentile of avg of mpg\n",
    "\n",
    "np.percentile(cars['mpg'], 48)"
   ]
  },
  {
   "cell_type": "code",
   "execution_count": 48,
   "id": "6ad3b59a-3573-486c-972e-7bf3e41763c4",
   "metadata": {},
   "outputs": [
    {
     "data": {
      "text/plain": [
       "'1.20.1'"
      ]
     },
     "execution_count": 48,
     "metadata": {},
     "output_type": "execute_result"
    }
   ],
   "source": [
    "np.__version__"
   ]
  },
  {
   "cell_type": "code",
   "execution_count": 52,
   "id": "42d457a9-c82f-4442-aed7-8b97a689b518",
   "metadata": {},
   "outputs": [
    {
     "data": {
      "text/plain": [
       "array([False, False,  True,  True])"
      ]
     },
     "execution_count": 52,
     "metadata": {},
     "output_type": "execute_result"
    }
   ],
   "source": [
    "v = np.array([3,2,34,21])\n",
    "v\n",
    "v > 10"
   ]
  },
  {
   "cell_type": "code",
   "execution_count": 55,
   "id": "6185cd3a-c7d8-4916-9585-93590772f57d",
   "metadata": {},
   "outputs": [
    {
     "data": {
      "text/plain": [
       "array([3, 2])"
      ]
     },
     "execution_count": 55,
     "metadata": {},
     "output_type": "execute_result"
    }
   ],
   "source": [
    "v[[True, True, False, False]]"
   ]
  },
  {
   "cell_type": "code",
   "execution_count": 58,
   "id": "6a9c6c8e-1852-47c7-ae49-8e0b5fccfdf8",
   "metadata": {},
   "outputs": [
    {
     "data": {
      "text/html": [
       "<div>\n",
       "<style scoped>\n",
       "    .dataframe tbody tr th:only-of-type {\n",
       "        vertical-align: middle;\n",
       "    }\n",
       "\n",
       "    .dataframe tbody tr th {\n",
       "        vertical-align: top;\n",
       "    }\n",
       "\n",
       "    .dataframe thead th {\n",
       "        text-align: right;\n",
       "    }\n",
       "</style>\n",
       "<table border=\"1\" class=\"dataframe\">\n",
       "  <thead>\n",
       "    <tr style=\"text-align: right;\">\n",
       "      <th></th>\n",
       "      <th>mpg</th>\n",
       "      <th>cyl</th>\n",
       "      <th>disp</th>\n",
       "      <th>hp</th>\n",
       "      <th>drat</th>\n",
       "      <th>wt</th>\n",
       "      <th>qsec</th>\n",
       "      <th>vs</th>\n",
       "      <th>am</th>\n",
       "      <th>gear</th>\n",
       "      <th>carb</th>\n",
       "    </tr>\n",
       "  </thead>\n",
       "  <tbody>\n",
       "    <tr>\n",
       "      <th>17</th>\n",
       "      <td>32.4</td>\n",
       "      <td>4</td>\n",
       "      <td>78.7</td>\n",
       "      <td>66</td>\n",
       "      <td>4.08</td>\n",
       "      <td>2.200</td>\n",
       "      <td>19.47</td>\n",
       "      <td>1</td>\n",
       "      <td>1</td>\n",
       "      <td>4</td>\n",
       "      <td>1</td>\n",
       "    </tr>\n",
       "    <tr>\n",
       "      <th>18</th>\n",
       "      <td>30.4</td>\n",
       "      <td>4</td>\n",
       "      <td>75.7</td>\n",
       "      <td>52</td>\n",
       "      <td>4.93</td>\n",
       "      <td>1.615</td>\n",
       "      <td>18.52</td>\n",
       "      <td>1</td>\n",
       "      <td>1</td>\n",
       "      <td>4</td>\n",
       "      <td>2</td>\n",
       "    </tr>\n",
       "    <tr>\n",
       "      <th>19</th>\n",
       "      <td>33.9</td>\n",
       "      <td>4</td>\n",
       "      <td>71.1</td>\n",
       "      <td>65</td>\n",
       "      <td>4.22</td>\n",
       "      <td>1.835</td>\n",
       "      <td>19.90</td>\n",
       "      <td>1</td>\n",
       "      <td>1</td>\n",
       "      <td>4</td>\n",
       "      <td>1</td>\n",
       "    </tr>\n",
       "    <tr>\n",
       "      <th>25</th>\n",
       "      <td>27.3</td>\n",
       "      <td>4</td>\n",
       "      <td>79.0</td>\n",
       "      <td>66</td>\n",
       "      <td>4.08</td>\n",
       "      <td>1.935</td>\n",
       "      <td>18.90</td>\n",
       "      <td>1</td>\n",
       "      <td>1</td>\n",
       "      <td>4</td>\n",
       "      <td>1</td>\n",
       "    </tr>\n",
       "    <tr>\n",
       "      <th>26</th>\n",
       "      <td>26.0</td>\n",
       "      <td>4</td>\n",
       "      <td>120.3</td>\n",
       "      <td>91</td>\n",
       "      <td>4.43</td>\n",
       "      <td>2.140</td>\n",
       "      <td>16.70</td>\n",
       "      <td>0</td>\n",
       "      <td>1</td>\n",
       "      <td>5</td>\n",
       "      <td>2</td>\n",
       "    </tr>\n",
       "    <tr>\n",
       "      <th>27</th>\n",
       "      <td>30.4</td>\n",
       "      <td>4</td>\n",
       "      <td>95.1</td>\n",
       "      <td>113</td>\n",
       "      <td>3.77</td>\n",
       "      <td>1.513</td>\n",
       "      <td>16.90</td>\n",
       "      <td>1</td>\n",
       "      <td>1</td>\n",
       "      <td>5</td>\n",
       "      <td>2</td>\n",
       "    </tr>\n",
       "  </tbody>\n",
       "</table>\n",
       "</div>"
      ],
      "text/plain": [
       "     mpg  cyl   disp   hp  drat     wt   qsec  vs  am  gear  carb\n",
       "17  32.4    4   78.7   66  4.08  2.200  19.47   1   1     4     1\n",
       "18  30.4    4   75.7   52  4.93  1.615  18.52   1   1     4     2\n",
       "19  33.9    4   71.1   65  4.22  1.835  19.90   1   1     4     1\n",
       "25  27.3    4   79.0   66  4.08  1.935  18.90   1   1     4     1\n",
       "26  26.0    4  120.3   91  4.43  2.140  16.70   0   1     5     2\n",
       "27  30.4    4   95.1  113  3.77  1.513  16.90   1   1     5     2"
      ]
     },
     "execution_count": 58,
     "metadata": {},
     "output_type": "execute_result"
    }
   ],
   "source": [
    "#Boolean Masking\n",
    "\n",
    "cars[cars['mpg'] > 25]"
   ]
  },
  {
   "cell_type": "code",
   "execution_count": 60,
   "id": "9bff5c0c-6683-4a4b-a0c1-19ebb2b7c406",
   "metadata": {},
   "outputs": [
    {
     "data": {
      "text/html": [
       "<div>\n",
       "<style scoped>\n",
       "    .dataframe tbody tr th:only-of-type {\n",
       "        vertical-align: middle;\n",
       "    }\n",
       "\n",
       "    .dataframe tbody tr th {\n",
       "        vertical-align: top;\n",
       "    }\n",
       "\n",
       "    .dataframe thead th {\n",
       "        text-align: right;\n",
       "    }\n",
       "</style>\n",
       "<table border=\"1\" class=\"dataframe\">\n",
       "  <thead>\n",
       "    <tr style=\"text-align: right;\">\n",
       "      <th></th>\n",
       "      <th>mpg</th>\n",
       "      <th>cyl</th>\n",
       "      <th>disp</th>\n",
       "      <th>hp</th>\n",
       "      <th>drat</th>\n",
       "      <th>wt</th>\n",
       "      <th>qsec</th>\n",
       "      <th>vs</th>\n",
       "      <th>am</th>\n",
       "      <th>gear</th>\n",
       "      <th>carb</th>\n",
       "    </tr>\n",
       "  </thead>\n",
       "  <tbody>\n",
       "    <tr>\n",
       "      <th>27</th>\n",
       "      <td>30.4</td>\n",
       "      <td>4</td>\n",
       "      <td>95.1</td>\n",
       "      <td>113</td>\n",
       "      <td>3.77</td>\n",
       "      <td>1.513</td>\n",
       "      <td>16.9</td>\n",
       "      <td>1</td>\n",
       "      <td>1</td>\n",
       "      <td>5</td>\n",
       "      <td>2</td>\n",
       "    </tr>\n",
       "  </tbody>\n",
       "</table>\n",
       "</div>"
      ],
      "text/plain": [
       "     mpg  cyl  disp   hp  drat     wt  qsec  vs  am  gear  carb\n",
       "27  30.4    4  95.1  113  3.77  1.513  16.9   1   1     5     2"
      ]
     },
     "execution_count": 60,
     "metadata": {},
     "output_type": "execute_result"
    }
   ],
   "source": [
    "## &AND\n",
    "## | OR\n",
    "\n",
    "cars[((cars['mpg'] > 25) & (cars['hp'] > 100)) | (cars[cy])]"
   ]
  },
  {
   "cell_type": "code",
   "execution_count": 65,
   "id": "5ae9b0da-e853-426c-952b-e2d26671cffa",
   "metadata": {},
   "outputs": [
    {
     "data": {
      "text/html": [
       "<div>\n",
       "<style scoped>\n",
       "    .dataframe tbody tr th:only-of-type {\n",
       "        vertical-align: middle;\n",
       "    }\n",
       "\n",
       "    .dataframe tbody tr th {\n",
       "        vertical-align: top;\n",
       "    }\n",
       "\n",
       "    .dataframe thead th {\n",
       "        text-align: right;\n",
       "    }\n",
       "</style>\n",
       "<table border=\"1\" class=\"dataframe\">\n",
       "  <thead>\n",
       "    <tr style=\"text-align: right;\">\n",
       "      <th></th>\n",
       "      <th>City</th>\n",
       "      <th>Colors Reported</th>\n",
       "      <th>Shape Reported</th>\n",
       "      <th>State</th>\n",
       "      <th>Time</th>\n",
       "    </tr>\n",
       "  </thead>\n",
       "  <tbody>\n",
       "    <tr>\n",
       "      <th>82</th>\n",
       "      <td>San Jose</td>\n",
       "      <td>BLUE</td>\n",
       "      <td>CHEVRON</td>\n",
       "      <td>CA</td>\n",
       "      <td>7/15/1947 21:00</td>\n",
       "    </tr>\n",
       "    <tr>\n",
       "      <th>1268</th>\n",
       "      <td>San Jose</td>\n",
       "      <td>NaN</td>\n",
       "      <td>DISK</td>\n",
       "      <td>CA</td>\n",
       "      <td>7/4/1966 17:15</td>\n",
       "    </tr>\n",
       "    <tr>\n",
       "      <th>1693</th>\n",
       "      <td>San Jose</td>\n",
       "      <td>NaN</td>\n",
       "      <td>CIRCLE</td>\n",
       "      <td>CA</td>\n",
       "      <td>7/20/1968 19:00</td>\n",
       "    </tr>\n",
       "    <tr>\n",
       "      <th>1914</th>\n",
       "      <td>San Jose</td>\n",
       "      <td>GREEN</td>\n",
       "      <td>LIGHT</td>\n",
       "      <td>CA</td>\n",
       "      <td>11/13/1969 21:03</td>\n",
       "    </tr>\n",
       "    <tr>\n",
       "      <th>2414</th>\n",
       "      <td>San Jose</td>\n",
       "      <td>NaN</td>\n",
       "      <td>TRIANGLE</td>\n",
       "      <td>CA</td>\n",
       "      <td>6/15/1973 22:30</td>\n",
       "    </tr>\n",
       "    <tr>\n",
       "      <th>...</th>\n",
       "      <td>...</td>\n",
       "      <td>...</td>\n",
       "      <td>...</td>\n",
       "      <td>...</td>\n",
       "      <td>...</td>\n",
       "    </tr>\n",
       "    <tr>\n",
       "      <th>78059</th>\n",
       "      <td>San Jose</td>\n",
       "      <td>BLUE</td>\n",
       "      <td>NaN</td>\n",
       "      <td>CA</td>\n",
       "      <td>6/7/2014 1:00</td>\n",
       "    </tr>\n",
       "    <tr>\n",
       "      <th>78194</th>\n",
       "      <td>San Jose</td>\n",
       "      <td>NaN</td>\n",
       "      <td>SPHERE</td>\n",
       "      <td>CA</td>\n",
       "      <td>6/14/2014 19:10</td>\n",
       "    </tr>\n",
       "    <tr>\n",
       "      <th>78895</th>\n",
       "      <td>San Jose</td>\n",
       "      <td>RED</td>\n",
       "      <td>LIGHT</td>\n",
       "      <td>CA</td>\n",
       "      <td>7/4/2014 22:05</td>\n",
       "    </tr>\n",
       "    <tr>\n",
       "      <th>79355</th>\n",
       "      <td>San Jose</td>\n",
       "      <td>NaN</td>\n",
       "      <td>SPHERE</td>\n",
       "      <td>CA</td>\n",
       "      <td>7/17/2014 14:00</td>\n",
       "    </tr>\n",
       "    <tr>\n",
       "      <th>79476</th>\n",
       "      <td>San Jose</td>\n",
       "      <td>NaN</td>\n",
       "      <td>LIGHT</td>\n",
       "      <td>CA</td>\n",
       "      <td>7/22/2014 22:30</td>\n",
       "    </tr>\n",
       "  </tbody>\n",
       "</table>\n",
       "<p>209 rows × 5 columns</p>\n",
       "</div>"
      ],
      "text/plain": [
       "           City Colors Reported Shape Reported State              Time\n",
       "82     San Jose            BLUE        CHEVRON    CA   7/15/1947 21:00\n",
       "1268   San Jose             NaN           DISK    CA    7/4/1966 17:15\n",
       "1693   San Jose             NaN         CIRCLE    CA   7/20/1968 19:00\n",
       "1914   San Jose           GREEN          LIGHT    CA  11/13/1969 21:03\n",
       "2414   San Jose             NaN       TRIANGLE    CA   6/15/1973 22:30\n",
       "...         ...             ...            ...   ...               ...\n",
       "78059  San Jose            BLUE            NaN    CA     6/7/2014 1:00\n",
       "78194  San Jose             NaN         SPHERE    CA   6/14/2014 19:10\n",
       "78895  San Jose             RED          LIGHT    CA    7/4/2014 22:05\n",
       "79355  San Jose             NaN         SPHERE    CA   7/17/2014 14:00\n",
       "79476  San Jose             NaN          LIGHT    CA   7/22/2014 22:30\n",
       "\n",
       "[209 rows x 5 columns]"
      ]
     },
     "execution_count": 65,
     "metadata": {},
     "output_type": "execute_result"
    }
   ],
   "source": [
    "ufo[(ufo['State'] == 'CA') & (ufo['City'] == 'San Jose')]\n"
   ]
  },
  {
   "cell_type": "code",
   "execution_count": 66,
   "id": "42f52b45-435c-478b-8c74-8e47ff691667",
   "metadata": {},
   "outputs": [
    {
     "data": {
      "text/plain": [
       "0       1930-06-01 22:00:00\n",
       "1       1930-06-30 20:00:00\n",
       "2       1931-02-15 14:00:00\n",
       "3       1931-06-01 13:00:00\n",
       "4       1933-04-18 19:00:00\n",
       "                ...        \n",
       "80538   2014-09-04 23:20:00\n",
       "80539   2014-09-05 01:14:00\n",
       "80540   2014-09-05 02:40:00\n",
       "80541   2014-09-05 03:43:00\n",
       "80542   2014-09-05 05:30:00\n",
       "Name: Time, Length: 80543, dtype: datetime64[ns]"
      ]
     },
     "execution_count": 66,
     "metadata": {},
     "output_type": "execute_result"
    }
   ],
   "source": [
    "pd.to_datetime(ufo['Time'])"
   ]
  },
  {
   "cell_type": "code",
   "execution_count": 67,
   "id": "a94c6cb7-1b06-48c3-a2e6-68eabc868a02",
   "metadata": {},
   "outputs": [
    {
     "data": {
      "text/html": [
       "<div>\n",
       "<style scoped>\n",
       "    .dataframe tbody tr th:only-of-type {\n",
       "        vertical-align: middle;\n",
       "    }\n",
       "\n",
       "    .dataframe tbody tr th {\n",
       "        vertical-align: top;\n",
       "    }\n",
       "\n",
       "    .dataframe thead th {\n",
       "        text-align: right;\n",
       "    }\n",
       "</style>\n",
       "<table border=\"1\" class=\"dataframe\">\n",
       "  <thead>\n",
       "    <tr style=\"text-align: right;\">\n",
       "      <th></th>\n",
       "      <th>mpg</th>\n",
       "      <th>cyl</th>\n",
       "      <th>disp</th>\n",
       "      <th>hp</th>\n",
       "      <th>drat</th>\n",
       "      <th>wt</th>\n",
       "      <th>qsec</th>\n",
       "      <th>vs</th>\n",
       "      <th>am</th>\n",
       "      <th>gear</th>\n",
       "      <th>carb</th>\n",
       "    </tr>\n",
       "  </thead>\n",
       "  <tbody>\n",
       "    <tr>\n",
       "      <th>0</th>\n",
       "      <td>21.0</td>\n",
       "      <td>6</td>\n",
       "      <td>160.0</td>\n",
       "      <td>110</td>\n",
       "      <td>3.90</td>\n",
       "      <td>2.620</td>\n",
       "      <td>16.46</td>\n",
       "      <td>0</td>\n",
       "      <td>1</td>\n",
       "      <td>4</td>\n",
       "      <td>4</td>\n",
       "    </tr>\n",
       "    <tr>\n",
       "      <th>1</th>\n",
       "      <td>21.0</td>\n",
       "      <td>6</td>\n",
       "      <td>160.0</td>\n",
       "      <td>110</td>\n",
       "      <td>3.90</td>\n",
       "      <td>2.875</td>\n",
       "      <td>17.02</td>\n",
       "      <td>0</td>\n",
       "      <td>1</td>\n",
       "      <td>4</td>\n",
       "      <td>4</td>\n",
       "    </tr>\n",
       "    <tr>\n",
       "      <th>2</th>\n",
       "      <td>22.8</td>\n",
       "      <td>4</td>\n",
       "      <td>108.0</td>\n",
       "      <td>93</td>\n",
       "      <td>3.85</td>\n",
       "      <td>2.320</td>\n",
       "      <td>18.61</td>\n",
       "      <td>1</td>\n",
       "      <td>1</td>\n",
       "      <td>4</td>\n",
       "      <td>1</td>\n",
       "    </tr>\n",
       "    <tr>\n",
       "      <th>3</th>\n",
       "      <td>21.4</td>\n",
       "      <td>6</td>\n",
       "      <td>258.0</td>\n",
       "      <td>110</td>\n",
       "      <td>3.08</td>\n",
       "      <td>3.215</td>\n",
       "      <td>19.44</td>\n",
       "      <td>1</td>\n",
       "      <td>0</td>\n",
       "      <td>3</td>\n",
       "      <td>1</td>\n",
       "    </tr>\n",
       "    <tr>\n",
       "      <th>7</th>\n",
       "      <td>24.4</td>\n",
       "      <td>4</td>\n",
       "      <td>146.7</td>\n",
       "      <td>62</td>\n",
       "      <td>3.69</td>\n",
       "      <td>3.190</td>\n",
       "      <td>20.00</td>\n",
       "      <td>1</td>\n",
       "      <td>0</td>\n",
       "      <td>4</td>\n",
       "      <td>2</td>\n",
       "    </tr>\n",
       "    <tr>\n",
       "      <th>8</th>\n",
       "      <td>22.8</td>\n",
       "      <td>4</td>\n",
       "      <td>140.8</td>\n",
       "      <td>95</td>\n",
       "      <td>3.92</td>\n",
       "      <td>3.150</td>\n",
       "      <td>22.90</td>\n",
       "      <td>1</td>\n",
       "      <td>0</td>\n",
       "      <td>4</td>\n",
       "      <td>2</td>\n",
       "    </tr>\n",
       "    <tr>\n",
       "      <th>20</th>\n",
       "      <td>21.5</td>\n",
       "      <td>4</td>\n",
       "      <td>120.1</td>\n",
       "      <td>97</td>\n",
       "      <td>3.70</td>\n",
       "      <td>2.465</td>\n",
       "      <td>20.01</td>\n",
       "      <td>1</td>\n",
       "      <td>0</td>\n",
       "      <td>3</td>\n",
       "      <td>1</td>\n",
       "    </tr>\n",
       "    <tr>\n",
       "      <th>25</th>\n",
       "      <td>27.3</td>\n",
       "      <td>4</td>\n",
       "      <td>79.0</td>\n",
       "      <td>66</td>\n",
       "      <td>4.08</td>\n",
       "      <td>1.935</td>\n",
       "      <td>18.90</td>\n",
       "      <td>1</td>\n",
       "      <td>1</td>\n",
       "      <td>4</td>\n",
       "      <td>1</td>\n",
       "    </tr>\n",
       "    <tr>\n",
       "      <th>26</th>\n",
       "      <td>26.0</td>\n",
       "      <td>4</td>\n",
       "      <td>120.3</td>\n",
       "      <td>91</td>\n",
       "      <td>4.43</td>\n",
       "      <td>2.140</td>\n",
       "      <td>16.70</td>\n",
       "      <td>0</td>\n",
       "      <td>1</td>\n",
       "      <td>5</td>\n",
       "      <td>2</td>\n",
       "    </tr>\n",
       "    <tr>\n",
       "      <th>31</th>\n",
       "      <td>21.4</td>\n",
       "      <td>4</td>\n",
       "      <td>121.0</td>\n",
       "      <td>109</td>\n",
       "      <td>4.11</td>\n",
       "      <td>2.780</td>\n",
       "      <td>18.60</td>\n",
       "      <td>1</td>\n",
       "      <td>1</td>\n",
       "      <td>4</td>\n",
       "      <td>2</td>\n",
       "    </tr>\n",
       "  </tbody>\n",
       "</table>\n",
       "</div>"
      ],
      "text/plain": [
       "     mpg  cyl   disp   hp  drat     wt   qsec  vs  am  gear  carb\n",
       "0   21.0    6  160.0  110  3.90  2.620  16.46   0   1     4     4\n",
       "1   21.0    6  160.0  110  3.90  2.875  17.02   0   1     4     4\n",
       "2   22.8    4  108.0   93  3.85  2.320  18.61   1   1     4     1\n",
       "3   21.4    6  258.0  110  3.08  3.215  19.44   1   0     3     1\n",
       "7   24.4    4  146.7   62  3.69  3.190  20.00   1   0     4     2\n",
       "8   22.8    4  140.8   95  3.92  3.150  22.90   1   0     4     2\n",
       "20  21.5    4  120.1   97  3.70  2.465  20.01   1   0     3     1\n",
       "25  27.3    4   79.0   66  4.08  1.935  18.90   1   1     4     1\n",
       "26  26.0    4  120.3   91  4.43  2.140  16.70   0   1     5     2\n",
       "31  21.4    4  121.0  109  4.11  2.780  18.60   1   1     4     2"
      ]
     },
     "execution_count": 67,
     "metadata": {},
     "output_type": "execute_result"
    }
   ],
   "source": [
    "cars[(cars['mpg']).between(20,30) ]"
   ]
  },
  {
   "cell_type": "code",
   "execution_count": 75,
   "id": "a71cfbb0-320f-4280-b80b-31b11820af84",
   "metadata": {},
   "outputs": [
    {
     "data": {
      "text/html": [
       "<div>\n",
       "<style scoped>\n",
       "    .dataframe tbody tr th:only-of-type {\n",
       "        vertical-align: middle;\n",
       "    }\n",
       "\n",
       "    .dataframe tbody tr th {\n",
       "        vertical-align: top;\n",
       "    }\n",
       "\n",
       "    .dataframe thead th {\n",
       "        text-align: right;\n",
       "    }\n",
       "</style>\n",
       "<table border=\"1\" class=\"dataframe\">\n",
       "  <thead>\n",
       "    <tr style=\"text-align: right;\">\n",
       "      <th></th>\n",
       "      <th>City</th>\n",
       "      <th>Colors Reported</th>\n",
       "      <th>Shape Reported</th>\n",
       "      <th>State</th>\n",
       "      <th>Time</th>\n",
       "    </tr>\n",
       "  </thead>\n",
       "  <tbody>\n",
       "    <tr>\n",
       "      <th>2</th>\n",
       "      <td>Holyoke</td>\n",
       "      <td>NaN</td>\n",
       "      <td>OVAL</td>\n",
       "      <td>CO</td>\n",
       "      <td>2/15/1931 14:00</td>\n",
       "    </tr>\n",
       "    <tr>\n",
       "      <th>6</th>\n",
       "      <td>Crater Lake</td>\n",
       "      <td>NaN</td>\n",
       "      <td>CIRCLE</td>\n",
       "      <td>CA</td>\n",
       "      <td>6/15/1935 0:00</td>\n",
       "    </tr>\n",
       "    <tr>\n",
       "      <th>10</th>\n",
       "      <td>Fontana</td>\n",
       "      <td>NaN</td>\n",
       "      <td>LIGHT</td>\n",
       "      <td>CA</td>\n",
       "      <td>8/15/1937 21:00</td>\n",
       "    </tr>\n",
       "    <tr>\n",
       "      <th>15</th>\n",
       "      <td>Forest Home</td>\n",
       "      <td>NaN</td>\n",
       "      <td>CIRCLE</td>\n",
       "      <td>CA</td>\n",
       "      <td>7/2/1941 11:30</td>\n",
       "    </tr>\n",
       "    <tr>\n",
       "      <th>16</th>\n",
       "      <td>Los Angeles</td>\n",
       "      <td>NaN</td>\n",
       "      <td>NaN</td>\n",
       "      <td>CA</td>\n",
       "      <td>2/25/1942 0:00</td>\n",
       "    </tr>\n",
       "    <tr>\n",
       "      <th>...</th>\n",
       "      <td>...</td>\n",
       "      <td>...</td>\n",
       "      <td>...</td>\n",
       "      <td>...</td>\n",
       "      <td>...</td>\n",
       "    </tr>\n",
       "    <tr>\n",
       "      <th>80452</th>\n",
       "      <td>Southwest desert</td>\n",
       "      <td>NaN</td>\n",
       "      <td>TRIANGLE</td>\n",
       "      <td>AZ</td>\n",
       "      <td>9/1/2014 9:30</td>\n",
       "    </tr>\n",
       "    <tr>\n",
       "      <th>80483</th>\n",
       "      <td>Fort Collins</td>\n",
       "      <td>NaN</td>\n",
       "      <td>TEARDROP</td>\n",
       "      <td>CO</td>\n",
       "      <td>9/2/2014 22:35</td>\n",
       "    </tr>\n",
       "    <tr>\n",
       "      <th>80484</th>\n",
       "      <td>Gilbert</td>\n",
       "      <td>NaN</td>\n",
       "      <td>OTHER</td>\n",
       "      <td>AZ</td>\n",
       "      <td>9/2/2014 23:00</td>\n",
       "    </tr>\n",
       "    <tr>\n",
       "      <th>80516</th>\n",
       "      <td>Glendale</td>\n",
       "      <td>NaN</td>\n",
       "      <td>CYLINDER</td>\n",
       "      <td>CA</td>\n",
       "      <td>9/4/2014 17:38</td>\n",
       "    </tr>\n",
       "    <tr>\n",
       "      <th>80540</th>\n",
       "      <td>Tucson</td>\n",
       "      <td>RED BLUE</td>\n",
       "      <td>NaN</td>\n",
       "      <td>AZ</td>\n",
       "      <td>9/5/2014 2:40</td>\n",
       "    </tr>\n",
       "  </tbody>\n",
       "</table>\n",
       "<p>15479 rows × 5 columns</p>\n",
       "</div>"
      ],
      "text/plain": [
       "                   City Colors Reported Shape Reported State             Time\n",
       "2               Holyoke             NaN           OVAL    CO  2/15/1931 14:00\n",
       "6           Crater Lake             NaN         CIRCLE    CA   6/15/1935 0:00\n",
       "10              Fontana             NaN          LIGHT    CA  8/15/1937 21:00\n",
       "15          Forest Home             NaN         CIRCLE    CA   7/2/1941 11:30\n",
       "16          Los Angeles             NaN            NaN    CA   2/25/1942 0:00\n",
       "...                 ...             ...            ...   ...              ...\n",
       "80452  Southwest desert             NaN       TRIANGLE    AZ    9/1/2014 9:30\n",
       "80483      Fort Collins             NaN       TEARDROP    CO   9/2/2014 22:35\n",
       "80484           Gilbert             NaN          OTHER    AZ   9/2/2014 23:00\n",
       "80516          Glendale             NaN       CYLINDER    CA   9/4/2014 17:38\n",
       "80540            Tucson        RED BLUE            NaN    AZ    9/5/2014 2:40\n",
       "\n",
       "[15479 rows x 5 columns]"
      ]
     },
     "execution_count": 75,
     "metadata": {},
     "output_type": "execute_result"
    }
   ],
   "source": [
    "ufo[ufo['State'].isin(['CA','CO','AZ'])]"
   ]
  },
  {
   "cell_type": "code",
   "execution_count": 76,
   "id": "4c2d3e10-d60a-41a9-94c0-3e89a24772fd",
   "metadata": {},
   "outputs": [
    {
     "data": {
      "text/html": [
       "<div>\n",
       "<style scoped>\n",
       "    .dataframe tbody tr th:only-of-type {\n",
       "        vertical-align: middle;\n",
       "    }\n",
       "\n",
       "    .dataframe tbody tr th {\n",
       "        vertical-align: top;\n",
       "    }\n",
       "\n",
       "    .dataframe thead th {\n",
       "        text-align: right;\n",
       "    }\n",
       "</style>\n",
       "<table border=\"1\" class=\"dataframe\">\n",
       "  <thead>\n",
       "    <tr style=\"text-align: right;\">\n",
       "      <th></th>\n",
       "      <th>Time</th>\n",
       "      <th>City</th>\n",
       "    </tr>\n",
       "  </thead>\n",
       "  <tbody>\n",
       "    <tr>\n",
       "      <th>6</th>\n",
       "      <td>6/15/1935 0:00</td>\n",
       "      <td>Crater Lake</td>\n",
       "    </tr>\n",
       "    <tr>\n",
       "      <th>10</th>\n",
       "      <td>8/15/1937 21:00</td>\n",
       "      <td>Fontana</td>\n",
       "    </tr>\n",
       "    <tr>\n",
       "      <th>15</th>\n",
       "      <td>7/2/1941 11:30</td>\n",
       "      <td>Forest Home</td>\n",
       "    </tr>\n",
       "    <tr>\n",
       "      <th>16</th>\n",
       "      <td>2/25/1942 0:00</td>\n",
       "      <td>Los Angeles</td>\n",
       "    </tr>\n",
       "    <tr>\n",
       "      <th>25</th>\n",
       "      <td>1/1/1944 12:00</td>\n",
       "      <td>San Diego</td>\n",
       "    </tr>\n",
       "    <tr>\n",
       "      <th>...</th>\n",
       "      <td>...</td>\n",
       "      <td>...</td>\n",
       "    </tr>\n",
       "    <tr>\n",
       "      <th>80405</th>\n",
       "      <td>8/30/2014 21:00</td>\n",
       "      <td>San Diego</td>\n",
       "    </tr>\n",
       "    <tr>\n",
       "      <th>80408</th>\n",
       "      <td>8/30/2014 21:20</td>\n",
       "      <td>Fallbrook</td>\n",
       "    </tr>\n",
       "    <tr>\n",
       "      <th>80421</th>\n",
       "      <td>8/31/2014 2:20</td>\n",
       "      <td>Manteca</td>\n",
       "    </tr>\n",
       "    <tr>\n",
       "      <th>80442</th>\n",
       "      <td>8/31/2014 22:35</td>\n",
       "      <td>El Cajon</td>\n",
       "    </tr>\n",
       "    <tr>\n",
       "      <th>80516</th>\n",
       "      <td>9/4/2014 17:38</td>\n",
       "      <td>Glendale</td>\n",
       "    </tr>\n",
       "  </tbody>\n",
       "</table>\n",
       "<p>10743 rows × 2 columns</p>\n",
       "</div>"
      ],
      "text/plain": [
       "                  Time         City\n",
       "6       6/15/1935 0:00  Crater Lake\n",
       "10     8/15/1937 21:00      Fontana\n",
       "15      7/2/1941 11:30  Forest Home\n",
       "16      2/25/1942 0:00  Los Angeles\n",
       "25      1/1/1944 12:00    San Diego\n",
       "...                ...          ...\n",
       "80405  8/30/2014 21:00    San Diego\n",
       "80408  8/30/2014 21:20    Fallbrook\n",
       "80421   8/31/2014 2:20      Manteca\n",
       "80442  8/31/2014 22:35     El Cajon\n",
       "80516   9/4/2014 17:38     Glendale\n",
       "\n",
       "[10743 rows x 2 columns]"
      ]
     },
     "execution_count": 76,
     "metadata": {},
     "output_type": "execute_result"
    }
   ],
   "source": [
    "## Location of data in the DataFrame\n",
    "\n",
    "ufo.loc[ufo['State'] == 'CA', ['Time','City']]"
   ]
  },
  {
   "cell_type": "code",
   "execution_count": 78,
   "id": "a263fa29-b873-43a4-b7ff-4bf9575b171e",
   "metadata": {},
   "outputs": [
    {
     "data": {
      "text/plain": [
       "cut\n",
       "Fair         4358.757764\n",
       "Good         3928.864452\n",
       "Ideal        3457.541970\n",
       "Premium      4584.257704\n",
       "Very Good    3981.759891\n",
       "Name: price, dtype: float64"
      ]
     },
     "execution_count": 78,
     "metadata": {},
     "output_type": "execute_result"
    }
   ],
   "source": [
    "diamonds.groupby(by = 'cut')['price'].mean()"
   ]
  },
  {
   "cell_type": "code",
   "execution_count": 79,
   "id": "1900dd7a-f594-40b0-9771-bbb208aad5c7",
   "metadata": {},
   "outputs": [
    {
     "data": {
      "text/html": [
       "<div>\n",
       "<style scoped>\n",
       "    .dataframe tbody tr th:only-of-type {\n",
       "        vertical-align: middle;\n",
       "    }\n",
       "\n",
       "    .dataframe tbody tr th {\n",
       "        vertical-align: top;\n",
       "    }\n",
       "\n",
       "    .dataframe thead th {\n",
       "        text-align: right;\n",
       "    }\n",
       "</style>\n",
       "<table border=\"1\" class=\"dataframe\">\n",
       "  <thead>\n",
       "    <tr style=\"text-align: right;\">\n",
       "      <th>cut</th>\n",
       "      <th>Fair</th>\n",
       "      <th>Good</th>\n",
       "      <th>Ideal</th>\n",
       "      <th>Premium</th>\n",
       "      <th>Very Good</th>\n",
       "    </tr>\n",
       "  </thead>\n",
       "  <tbody>\n",
       "    <tr>\n",
       "      <th>count</th>\n",
       "      <td>1610.000000</td>\n",
       "      <td>4906.000000</td>\n",
       "      <td>21551.000000</td>\n",
       "      <td>13791.000000</td>\n",
       "      <td>12082.000000</td>\n",
       "    </tr>\n",
       "    <tr>\n",
       "      <th>mean</th>\n",
       "      <td>4358.757764</td>\n",
       "      <td>3928.864452</td>\n",
       "      <td>3457.541970</td>\n",
       "      <td>4584.257704</td>\n",
       "      <td>3981.759891</td>\n",
       "    </tr>\n",
       "    <tr>\n",
       "      <th>std</th>\n",
       "      <td>3560.386612</td>\n",
       "      <td>3681.589584</td>\n",
       "      <td>3808.401172</td>\n",
       "      <td>4349.204961</td>\n",
       "      <td>3935.862161</td>\n",
       "    </tr>\n",
       "    <tr>\n",
       "      <th>min</th>\n",
       "      <td>337.000000</td>\n",
       "      <td>327.000000</td>\n",
       "      <td>326.000000</td>\n",
       "      <td>326.000000</td>\n",
       "      <td>336.000000</td>\n",
       "    </tr>\n",
       "    <tr>\n",
       "      <th>25%</th>\n",
       "      <td>2050.250000</td>\n",
       "      <td>1145.000000</td>\n",
       "      <td>878.000000</td>\n",
       "      <td>1046.000000</td>\n",
       "      <td>912.000000</td>\n",
       "    </tr>\n",
       "    <tr>\n",
       "      <th>50%</th>\n",
       "      <td>3282.000000</td>\n",
       "      <td>3050.500000</td>\n",
       "      <td>1810.000000</td>\n",
       "      <td>3185.000000</td>\n",
       "      <td>2648.000000</td>\n",
       "    </tr>\n",
       "    <tr>\n",
       "      <th>75%</th>\n",
       "      <td>5205.500000</td>\n",
       "      <td>5028.000000</td>\n",
       "      <td>4678.500000</td>\n",
       "      <td>6296.000000</td>\n",
       "      <td>5372.750000</td>\n",
       "    </tr>\n",
       "    <tr>\n",
       "      <th>max</th>\n",
       "      <td>18574.000000</td>\n",
       "      <td>18788.000000</td>\n",
       "      <td>18806.000000</td>\n",
       "      <td>18823.000000</td>\n",
       "      <td>18818.000000</td>\n",
       "    </tr>\n",
       "  </tbody>\n",
       "</table>\n",
       "</div>"
      ],
      "text/plain": [
       "cut            Fair          Good         Ideal       Premium     Very Good\n",
       "count   1610.000000   4906.000000  21551.000000  13791.000000  12082.000000\n",
       "mean    4358.757764   3928.864452   3457.541970   4584.257704   3981.759891\n",
       "std     3560.386612   3681.589584   3808.401172   4349.204961   3935.862161\n",
       "min      337.000000    327.000000    326.000000    326.000000    336.000000\n",
       "25%     2050.250000   1145.000000    878.000000   1046.000000    912.000000\n",
       "50%     3282.000000   3050.500000   1810.000000   3185.000000   2648.000000\n",
       "75%     5205.500000   5028.000000   4678.500000   6296.000000   5372.750000\n",
       "max    18574.000000  18788.000000  18806.000000  18823.000000  18818.000000"
      ]
     },
     "execution_count": 79,
     "metadata": {},
     "output_type": "execute_result"
    }
   ],
   "source": [
    "diamonds.groupby(by = 'cut')['price'].describe().T"
   ]
  },
  {
   "cell_type": "code",
   "execution_count": 80,
   "id": "5f42912c-efa4-46de-aca0-0798733983a4",
   "metadata": {},
   "outputs": [
    {
     "data": {
      "text/html": [
       "<div>\n",
       "<style scoped>\n",
       "    .dataframe tbody tr th:only-of-type {\n",
       "        vertical-align: middle;\n",
       "    }\n",
       "\n",
       "    .dataframe tbody tr th {\n",
       "        vertical-align: top;\n",
       "    }\n",
       "\n",
       "    .dataframe thead th {\n",
       "        text-align: right;\n",
       "    }\n",
       "</style>\n",
       "<table border=\"1\" class=\"dataframe\">\n",
       "  <thead>\n",
       "    <tr style=\"text-align: right;\">\n",
       "      <th></th>\n",
       "      <th>count</th>\n",
       "      <th>mean</th>\n",
       "      <th>median</th>\n",
       "    </tr>\n",
       "    <tr>\n",
       "      <th>cut</th>\n",
       "      <th></th>\n",
       "      <th></th>\n",
       "      <th></th>\n",
       "    </tr>\n",
       "  </thead>\n",
       "  <tbody>\n",
       "    <tr>\n",
       "      <th>Fair</th>\n",
       "      <td>1610</td>\n",
       "      <td>4358.757764</td>\n",
       "      <td>3282.0</td>\n",
       "    </tr>\n",
       "    <tr>\n",
       "      <th>Good</th>\n",
       "      <td>4906</td>\n",
       "      <td>3928.864452</td>\n",
       "      <td>3050.5</td>\n",
       "    </tr>\n",
       "    <tr>\n",
       "      <th>Ideal</th>\n",
       "      <td>21551</td>\n",
       "      <td>3457.541970</td>\n",
       "      <td>1810.0</td>\n",
       "    </tr>\n",
       "    <tr>\n",
       "      <th>Premium</th>\n",
       "      <td>13791</td>\n",
       "      <td>4584.257704</td>\n",
       "      <td>3185.0</td>\n",
       "    </tr>\n",
       "    <tr>\n",
       "      <th>Very Good</th>\n",
       "      <td>12082</td>\n",
       "      <td>3981.759891</td>\n",
       "      <td>2648.0</td>\n",
       "    </tr>\n",
       "  </tbody>\n",
       "</table>\n",
       "</div>"
      ],
      "text/plain": [
       "           count         mean  median\n",
       "cut                                  \n",
       "Fair        1610  4358.757764  3282.0\n",
       "Good        4906  3928.864452  3050.5\n",
       "Ideal      21551  3457.541970  1810.0\n",
       "Premium    13791  4584.257704  3185.0\n",
       "Very Good  12082  3981.759891  2648.0"
      ]
     },
     "execution_count": 80,
     "metadata": {},
     "output_type": "execute_result"
    }
   ],
   "source": [
    "diamonds.groupby('cut')['price'].agg(['count','mean', 'median'])"
   ]
  },
  {
   "cell_type": "code",
   "execution_count": 86,
   "id": "8d20350c-45a2-4b33-8474-0ea118ed143b",
   "metadata": {},
   "outputs": [
    {
     "data": {
      "text/plain": [
       "<AxesSubplot:xlabel='cyl'>"
      ]
     },
     "execution_count": 86,
     "metadata": {},
     "output_type": "execute_result"
    },
    {
     "data": {
      "image/png": "[encoded data removed]",
      "text/plain": [
       "<Figure size 432x288 with 1 Axes>"
      ]
     },
     "metadata": {
      "needs_background": "light"
     },
     "output_type": "display_data"
    }
   ],
   "source": [
    "#What is the mean miles per gallon for each cylinder of our cars df?\n",
    "cars.groupby('cyl')['mpg'].mean().plot(kind = 'line')\n"
   ]
  },
  {
   "cell_type": "code",
   "execution_count": 87,
   "id": "40615b2f-31c7-471d-aa79-b2d4c1936e28",
   "metadata": {},
   "outputs": [],
   "source": [
    "def log_mean(p):\n",
    "    return np.mean(np.log(p))"
   ]
  },
  {
   "cell_type": "code",
   "execution_count": 89,
   "id": "a3f4f437-6851-4fc2-ae6f-46067e15ecfe",
   "metadata": {},
   "outputs": [
    {
     "data": {
      "text/html": [
       "<div>\n",
       "<style scoped>\n",
       "    .dataframe tbody tr th:only-of-type {\n",
       "        vertical-align: middle;\n",
       "    }\n",
       "\n",
       "    .dataframe tbody tr th {\n",
       "        vertical-align: top;\n",
       "    }\n",
       "\n",
       "    .dataframe thead th {\n",
       "        text-align: right;\n",
       "    }\n",
       "</style>\n",
       "<table border=\"1\" class=\"dataframe\">\n",
       "  <thead>\n",
       "    <tr style=\"text-align: right;\">\n",
       "      <th></th>\n",
       "      <th>count</th>\n",
       "      <th>mean</th>\n",
       "      <th>log_mean</th>\n",
       "    </tr>\n",
       "    <tr>\n",
       "      <th>cut</th>\n",
       "      <th></th>\n",
       "      <th></th>\n",
       "      <th></th>\n",
       "    </tr>\n",
       "  </thead>\n",
       "  <tbody>\n",
       "    <tr>\n",
       "      <th>Fair</th>\n",
       "      <td>1610</td>\n",
       "      <td>4358.757764</td>\n",
       "      <td>8.093441</td>\n",
       "    </tr>\n",
       "    <tr>\n",
       "      <th>Good</th>\n",
       "      <td>4906</td>\n",
       "      <td>3928.864452</td>\n",
       "      <td>7.842809</td>\n",
       "    </tr>\n",
       "    <tr>\n",
       "      <th>Ideal</th>\n",
       "      <td>21551</td>\n",
       "      <td>3457.541970</td>\n",
       "      <td>7.639467</td>\n",
       "    </tr>\n",
       "    <tr>\n",
       "      <th>Premium</th>\n",
       "      <td>13791</td>\n",
       "      <td>4584.257704</td>\n",
       "      <td>7.950795</td>\n",
       "    </tr>\n",
       "    <tr>\n",
       "      <th>Very Good</th>\n",
       "      <td>12082</td>\n",
       "      <td>3981.759891</td>\n",
       "      <td>7.798664</td>\n",
       "    </tr>\n",
       "  </tbody>\n",
       "</table>\n",
       "</div>"
      ],
      "text/plain": [
       "           count         mean  log_mean\n",
       "cut                                    \n",
       "Fair        1610  4358.757764  8.093441\n",
       "Good        4906  3928.864452  7.842809\n",
       "Ideal      21551  3457.541970  7.639467\n",
       "Premium    13791  4584.257704  7.950795\n",
       "Very Good  12082  3981.759891  7.798664"
      ]
     },
     "execution_count": 89,
     "metadata": {},
     "output_type": "execute_result"
    }
   ],
   "source": [
    "diamonds.groupby('cut')['price'].agg(['count', 'mean', log_mean])"
   ]
  },
  {
   "cell_type": "code",
   "execution_count": 90,
   "id": "b5eda492-e19b-41b8-88aa-436e795664e8",
   "metadata": {},
   "outputs": [],
   "source": [
    "v = np.array([1,2,3,np.nan,6,7,8])"
   ]
  },
  {
   "cell_type": "code",
   "execution_count": 92,
   "id": "7eff4675-038f-4a1f-97d1-54e8cbb87335",
   "metadata": {},
   "outputs": [
    {
     "data": {
      "text/plain": [
       "0           hello\n",
       "1           hello\n",
       "2           hello\n",
       "3           hello\n",
       "4           hello\n",
       "           ...   \n",
       "80538       hello\n",
       "80539       hello\n",
       "80540    RED BLUE\n",
       "80541         RED\n",
       "80542       hello\n",
       "Name: Colors Reported, Length: 80543, dtype: object"
      ]
     },
     "execution_count": 92,
     "metadata": {},
     "output_type": "execute_result"
    }
   ],
   "source": [
    "#fill empty values\n",
    "\n",
    "ufo['Colors Reported'].fillna('hello')"
   ]
  },
  {
   "cell_type": "code",
   "execution_count": 93,
   "id": "b4e63c39-200f-489c-8779-e4895f83f380",
   "metadata": {},
   "outputs": [],
   "source": [
    "ufo['Colors Reported']= ufo['Colors Reported'].fillna('?')"
   ]
  },
  {
   "cell_type": "code",
   "execution_count": 96,
   "id": "4f66f056-8c46-4c04-a68a-aba6c625f636",
   "metadata": {},
   "outputs": [],
   "source": [
    "ufo['Colors Reported'].replace('?',np.nan,inplace=True)"
   ]
  },
  {
   "cell_type": "code",
   "execution_count": 97,
   "id": "a78732b8-e497-4505-b300-2556bdd6f363",
   "metadata": {},
   "outputs": [
    {
     "data": {
      "text/plain": [
       "0             NaN\n",
       "1             NaN\n",
       "2             NaN\n",
       "3             NaN\n",
       "4             NaN\n",
       "           ...   \n",
       "80538         NaN\n",
       "80539         NaN\n",
       "80540    RED BLUE\n",
       "80541         RED\n",
       "80542         NaN\n",
       "Name: Colors Reported, Length: 80543, dtype: object"
      ]
     },
     "execution_count": 97,
     "metadata": {},
     "output_type": "execute_result"
    }
   ],
   "source": [
    "ufo['Colors Reported']\n"
   ]
  },
  {
   "cell_type": "code",
   "execution_count": 99,
   "id": "871e1e61-29ae-4ba1-b389-9d0502e9b92c",
   "metadata": {},
   "outputs": [
    {
     "data": {
      "text/plain": [
       "Index(['City', 'Colors Reported', 'Shape Reported', 'State', 'Time'], dtype='object')"
      ]
     },
     "execution_count": 99,
     "metadata": {},
     "output_type": "execute_result"
    }
   ],
   "source": [
    "ufo.columns \n"
   ]
  },
  {
   "cell_type": "code",
   "execution_count": 102,
   "id": "af7487ee-bac0-4dd2-8cce-a6f098b40c1a",
   "metadata": {},
   "outputs": [],
   "source": [
    "## change the name of the columns for easy access\n",
    "ufo.columns = ['city','colors', 'shape', 'state', 'time']"
   ]
  },
  {
   "cell_type": "code",
   "execution_count": 103,
   "id": "32966ac5-a337-4245-9dd2-4fb99ede2c18",
   "metadata": {},
   "outputs": [
    {
     "data": {
      "text/plain": [
       "Index(['city', 'colors', 'shape', 'state', 'time'], dtype='object')"
      ]
     },
     "execution_count": 103,
     "metadata": {},
     "output_type": "execute_result"
    }
   ],
   "source": [
    "ufo.columns"
   ]
  },
  {
   "cell_type": "code",
   "execution_count": 107,
   "id": "5eaa1cb5-e37c-41d5-8c42-d4b22414ea48",
   "metadata": {},
   "outputs": [
    {
     "data": {
      "text/plain": [
       "0       Six\n",
       "1       Six\n",
       "2      four\n",
       "3       Six\n",
       "4     eight\n",
       "5       Six\n",
       "6     eight\n",
       "7      four\n",
       "8      four\n",
       "9       Six\n",
       "10      Six\n",
       "11    eight\n",
       "12    eight\n",
       "13    eight\n",
       "14    eight\n",
       "15    eight\n",
       "16    eight\n",
       "17     four\n",
       "18     four\n",
       "19     four\n",
       "20     four\n",
       "21    eight\n",
       "22    eight\n",
       "23    eight\n",
       "24    eight\n",
       "25     four\n",
       "26     four\n",
       "27     four\n",
       "28    eight\n",
       "29      Six\n",
       "30    eight\n",
       "31     four\n",
       "Name: cyl, dtype: object"
      ]
     },
     "execution_count": 107,
     "metadata": {},
     "output_type": "execute_result"
    }
   ],
   "source": [
    "cars['cyl'].map({6:'Six', 4:'four', 8:'eight'})"
   ]
  },
  {
   "cell_type": "code",
   "execution_count": 108,
   "id": "2064d02a-6071-4f8f-a645-d1d6c11d38b0",
   "metadata": {},
   "outputs": [
    {
     "data": {
      "text/plain": [
       "array([6, 4, 8])"
      ]
     },
     "execution_count": 108,
     "metadata": {},
     "output_type": "execute_result"
    }
   ],
   "source": [
    "cars['cyl'].unique()"
   ]
  },
  {
   "cell_type": "code",
   "execution_count": 111,
   "id": "e13191b9-63aa-4d8f-bdd4-3ba777ff2022",
   "metadata": {},
   "outputs": [],
   "source": [
    "def to_num(x):\n",
    "    \n",
    "    out = float(x)\n",
    "    return out    \n",
    "        "
   ]
  },
  {
   "cell_type": "code",
   "execution_count": 112,
   "id": "b47f0da4-0194-4a82-8504-b0d5d0f77c7b",
   "metadata": {},
   "outputs": [
    {
     "data": {
      "text/plain": [
       "0     6.0\n",
       "1     6.0\n",
       "2     4.0\n",
       "3     6.0\n",
       "4     8.0\n",
       "5     6.0\n",
       "6     8.0\n",
       "7     4.0\n",
       "8     4.0\n",
       "9     6.0\n",
       "10    6.0\n",
       "11    8.0\n",
       "12    8.0\n",
       "13    8.0\n",
       "14    8.0\n",
       "15    8.0\n",
       "16    8.0\n",
       "17    4.0\n",
       "18    4.0\n",
       "19    4.0\n",
       "20    4.0\n",
       "21    8.0\n",
       "22    8.0\n",
       "23    8.0\n",
       "24    8.0\n",
       "25    4.0\n",
       "26    4.0\n",
       "27    4.0\n",
       "28    8.0\n",
       "29    6.0\n",
       "30    8.0\n",
       "31    4.0\n",
       "Name: cyl, dtype: float64"
      ]
     },
     "execution_count": 112,
     "metadata": {},
     "output_type": "execute_result"
    }
   ],
   "source": [
    "cars['cyl'].apply(to_num)"
   ]
  },
  {
   "cell_type": "code",
   "execution_count": 117,
   "id": "c80e41f7-1c69-4152-97a1-b06edbdb771c",
   "metadata": {},
   "outputs": [],
   "source": [
    "def adv_car(row):\n",
    "    effi = row['mpg']/row['cyl']\n",
    "    cyl = row['cyl']\n",
    "    auto = 'auto' if row['am'] == 1 else 'manual'\n",
    "    print(f' {cyl} {auto} {effi}')\n"
   ]
  },
  {
   "cell_type": "code",
   "execution_count": 118,
   "id": "f39dccc4-3529-4dcc-8b12-650d29d83597",
   "metadata": {},
   "outputs": [
    {
     "name": "stdout",
     "output_type": "stream",
     "text": [
      " 6.0 auto 3.5\n",
      " 6.0 auto 3.5\n",
      " 4.0 auto 5.7\n",
      " 6.0 manual 3.5666666666666664\n",
      " 8.0 manual 2.3375\n"
     ]
    },
    {
     "data": {
      "text/plain": [
       "0    None\n",
       "1    None\n",
       "2    None\n",
       "3    None\n",
       "4    None\n",
       "dtype: object"
      ]
     },
     "execution_count": 118,
     "metadata": {},
     "output_type": "execute_result"
    }
   ],
   "source": [
    "cars.head().apply(adv_car,axis =1)"
   ]
  },
  {
   "cell_type": "code",
   "execution_count": 119,
   "id": "488e8d2d-c28f-498d-9bda-352d37ef703b",
   "metadata": {},
   "outputs": [],
   "source": []
  },
  {
   "cell_type": "code",
   "execution_count": 120,
   "id": "1899f524-010b-40f6-b986-880e97c4a6bb",
   "metadata": {},
   "outputs": [
    {
     "data": {
      "text/html": [
       "<div>\n",
       "<style scoped>\n",
       "    .dataframe tbody tr th:only-of-type {\n",
       "        vertical-align: middle;\n",
       "    }\n",
       "\n",
       "    .dataframe tbody tr th {\n",
       "        vertical-align: top;\n",
       "    }\n",
       "\n",
       "    .dataframe thead th {\n",
       "        text-align: right;\n",
       "    }\n",
       "</style>\n",
       "<table border=\"1\" class=\"dataframe\">\n",
       "  <thead>\n",
       "    <tr style=\"text-align: right;\">\n",
       "      <th></th>\n",
       "      <th>weekday</th>\n",
       "      <th>date</th>\n",
       "      <th>high</th>\n",
       "      <th>low</th>\n",
       "      <th>close</th>\n",
       "      <th>volume</th>\n",
       "      <th>ticker</th>\n",
       "    </tr>\n",
       "  </thead>\n",
       "  <tbody>\n",
       "    <tr>\n",
       "      <th>0</th>\n",
       "      <td>Friday</td>\n",
       "      <td>1998-01-02</td>\n",
       "      <td>3.95098</td>\n",
       "      <td>3.28236</td>\n",
       "      <td>3.95098</td>\n",
       "      <td>24947201.10</td>\n",
       "      <td>AAPL</td>\n",
       "    </tr>\n",
       "    <tr>\n",
       "      <th>1</th>\n",
       "      <td>Monday</td>\n",
       "      <td>1998-01-05</td>\n",
       "      <td>4.02635</td>\n",
       "      <td>3.69325</td>\n",
       "      <td>3.89020</td>\n",
       "      <td>22344145.08</td>\n",
       "      <td>AAPL</td>\n",
       "    </tr>\n",
       "    <tr>\n",
       "      <th>2</th>\n",
       "      <td>Tuesday</td>\n",
       "      <td>1998-01-06</td>\n",
       "      <td>4.98432</td>\n",
       "      <td>3.58628</td>\n",
       "      <td>4.60502</td>\n",
       "      <td>63150252.55</td>\n",
       "      <td>AAPL</td>\n",
       "    </tr>\n",
       "    <tr>\n",
       "      <th>3</th>\n",
       "      <td>Wednesday</td>\n",
       "      <td>1998-01-07</td>\n",
       "      <td>4.68040</td>\n",
       "      <td>4.20871</td>\n",
       "      <td>4.24032</td>\n",
       "      <td>36978255.52</td>\n",
       "      <td>AAPL</td>\n",
       "    </tr>\n",
       "    <tr>\n",
       "      <th>4</th>\n",
       "      <td>Thursday</td>\n",
       "      <td>1998-01-08</td>\n",
       "      <td>4.52965</td>\n",
       "      <td>4.11875</td>\n",
       "      <td>4.39107</td>\n",
       "      <td>27687622.95</td>\n",
       "      <td>AAPL</td>\n",
       "    </tr>\n",
       "  </tbody>\n",
       "</table>\n",
       "</div>"
      ],
      "text/plain": [
       "     weekday       date     high      low    close       volume ticker\n",
       "0     Friday 1998-01-02  3.95098  3.28236  3.95098  24947201.10   AAPL\n",
       "1     Monday 1998-01-05  4.02635  3.69325  3.89020  22344145.08   AAPL\n",
       "2    Tuesday 1998-01-06  4.98432  3.58628  4.60502  63150252.55   AAPL\n",
       "3  Wednesday 1998-01-07  4.68040  4.20871  4.24032  36978255.52   AAPL\n",
       "4   Thursday 1998-01-08  4.52965  4.11875  4.39107  27687622.95   AAPL"
      ]
     },
     "execution_count": 120,
     "metadata": {},
     "output_type": "execute_result"
    }
   ],
   "source": [
    "stocks.head()\n"
   ]
  },
  {
   "cell_type": "code",
   "execution_count": null,
   "id": "d3701cca-6840-44d3-904c-e0b9673ae906",
   "metadata": {},
   "outputs": [],
   "source": []
  }
 ],
 "metadata": {
  "kernelspec": {
   "display_name": "Python 3",
   "language": "python",
   "name": "python3"
  },
  "language_info": {
   "codemirror_mode": {
    "name": "ipython",
    "version": 3
   },
   "file_extension": ".py",
   "mimetype": "text/x-python",
   "name": "python",
   "nbconvert_exporter": "python",
   "pygments_lexer": "ipython3",
   "version": "3.8.8"
  }
 },
 "nbformat": 4,
 "nbformat_minor": 5
}
