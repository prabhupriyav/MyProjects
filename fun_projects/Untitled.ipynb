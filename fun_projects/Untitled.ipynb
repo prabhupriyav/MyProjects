{
 "cells": [
  {
   "cell_type": "code",
   "execution_count": 7,
   "id": "a6331c3a-901d-408a-abca-65d4ea215e59",
   "metadata": {},
   "outputs": [
    {
     "data": {
      "text/plain": [
       "[]"
      ]
     },
     "execution_count": 7,
     "metadata": {},
     "output_type": "execute_result"
    }
   ],
   "source": [
    "\n",
    "def letterCombinations(digits):\n",
    "        dict1 = {\"1\":'',\"2\":['a','b','c'],\"3\":['d','e','f'],\"4\":['g','h','i'],\n",
    "                 \"5\":['j','k','l'],\"6\":['m','n','o'],\"7\":['p','q','r','s'],\n",
    "                 \"8\":['t','u','v'],\"9\":['w','x','y','z']}\n",
    "        #digit1 = list(digits)\n",
    "        if not digits:\n",
    "            return []\n",
    "        res = [\"\"]\n",
    "        for i in digits:\n",
    "            temp = []\n",
    "            for j in dict1[i]:\n",
    "                for k in res:\n",
    "                    temp.append(k+j)\n",
    "            res = temp\n",
    "        return res\n",
    "\n",
    "letterCombinations(\"\")"
   ]
  },
  {
   "cell_type": "code",
   "execution_count": 17,
   "id": "b043c11c-b038-44e0-bda3-ce185ede258f",
   "metadata": {},
   "outputs": [
    {
     "data": {
      "text/plain": [
       "['ad', 'ae', 'af', 'bd', 'be', 'bf', 'cd', 'ce', 'cf']"
      ]
     },
     "execution_count": 17,
     "metadata": {},
     "output_type": "execute_result"
    }
   ],
   "source": [
    "def letterCombinations(digits):\n",
    "        dict1 = {\"1\":'',\"2\":['a','b','c'],\"3\":['d','e','f'],\"4\":['g','h','i'],\n",
    "                 \"5\":['j','k','l'],\"6\":['m','n','o'],\"7\":['p','q','r','s'],\n",
    "                 \"8\":['t','u','v'],\"9\":['w','x','y','z']}\n",
    "        #digit1 = list(digits)\n",
    "        res = []\n",
    "        def rec_fn(digits,pos,temp):\n",
    "            if not digits:\n",
    "                return res\n",
    "            elif pos == len(digits):\n",
    "                if len(temp) > 0:\n",
    "                    res.append(\"\".join(temp))\n",
    "                    \n",
    "            else:\n",
    "                for j in dict1[digits[pos]]:\n",
    "                    temp.append(j)\n",
    "                   # print(temp)\n",
    "                    rec_fn(digits,pos+1,temp)\n",
    "                    temp.pop()\n",
    "        rec_fn(digits,0,[])\n",
    "        return res\n",
    "\n",
    "letterCombinations(\"23\")"
   ]
  },
  {
   "cell_type": "code",
   "execution_count": null,
   "id": "1b6e7116-8c6d-4456-bdbd-f367b2b9adac",
   "metadata": {},
   "outputs": [],
   "source": []
  },
  {
   "cell_type": "code",
   "execution_count": null,
   "id": "3d0b0a98-d9dd-445a-83b7-c0395d1b2df3",
   "metadata": {},
   "outputs": [],
   "source": []
  }
 ],
 "metadata": {
  "kernelspec": {
   "display_name": "Python 3",
   "language": "python",
   "name": "python3"
  },
  "language_info": {
   "codemirror_mode": {
    "name": "ipython",
    "version": 3
   },
   "file_extension": ".py",
   "mimetype": "text/x-python",
   "name": "python",
   "nbconvert_exporter": "python",
   "pygments_lexer": "ipython3",
   "version": "3.8.8"
  }
 },
 "nbformat": 4,
 "nbformat_minor": 5
}
