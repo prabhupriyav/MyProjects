{
 "cells": [
  {
   "cell_type": "markdown",
   "metadata": {},
   "source": [
    "### ![](https://ga-dash.s3.amazonaws.com/production/assets/logo-9f88ae6c9c3871690e33280fcf557f33.png)\n",
    "\n",
    "# Unit 5 Lab: Importing Libraries and Pandas\n",
    "\n",
    "## Overview\n",
    "\n",
    "Welcome to the Unit 5 lab!\n",
    "\n",
    "Now that we've learned a little about libraries, we can make some changes to our weather forecast application to make it more efficient and flexible.\n",
    "\n",
    "### Goals\n",
    "\n",
    "In this lab, you will:\n",
    "\n",
    "- Utilize external libraries to extend the functionality of our `Forecast` class.\n",
    "- Work with and manipulate `datetime` objects to provide more accurate weekly forecast data.\n",
    "\n",
    "---"
   ]
  },
  {
   "cell_type": "markdown",
   "metadata": {},
   "source": [
    "### Adding the `datetime` and `calendar` Libraries\n",
    "Let's apply the power of the `datetime` and `calendar` libraries to our application. Start by adding an import for the `datetime` library.\n",
    "\n",
    "To save the user from an unnecessary input, we're going to set the current year for them. \n",
    "\n",
    "- Create an instance variable named `forecast_year` inside the `__init__()` function and set the value to `datetime.datetime.now().year`.\n",
    "\n",
    "_Note: The `datetime.datetime.now()` method creates a `datetime` object for the current execution time. The result looks like `2019-06-13 18:48:30.733505`. Once we've created a `datetime` object, we can grab any attribute from it that we need, such as `.year`, `.month`, etc._\n",
    "\n",
    "- Add two more arguments to our `__init__()` method:\n",
    "  - `user_input_month`\n",
    "  - `user_input_day`\n",
    "  \n",
    "Create an instance variable, `forecast_date`, inside the `__init__()` method.\n",
    " \n",
    "Set it to a new `datetime` object using `self.forecast_year`, `user_input_month`, and `user_input_day`.\n",
    "\n",
    "_Hint: To create a `datetime` object, use `datetime.datetime(year,month,day)`._"
   ]
  },
  {
   "cell_type": "code",
   "execution_count": 1,
   "metadata": {},
   "outputs": [],
   "source": [
    "import datetime"
   ]
  },
  {
   "cell_type": "code",
   "execution_count": 71,
   "metadata": {
    "tags": []
   },
   "outputs": [
    {
     "name": "stdout",
     "output_type": "stream",
     "text": [
      "The weather forecast for today in Austin,TX is: High of 82, Low of 65, with a 10.0% chance of rain.\n"
     ]
    }
   ],
   "source": [
    "# Modify the code below:\n",
    "\n",
    "one_day_of_hourly_temperatures = [67,67,68,69,71,73,75,76,79,81,81,80,82,81,81,80,78,75,72,70,67,65,66,66]\n",
    "one_day_of_hourly_humidity = [60,65,65,70,70,70,70,75,75,75,75,80,80,85,85,85,85,80,80,80,80,80,80,80]\n",
    "one_day_of_hourly_rainfall = [0,0,0,0.1,0.1,0.05,0.1,0.15,0.2,0.3,0.3,0.5,0,0,0,0,0,0,0,0,0,0,0,0]\n",
    "\n",
    "class Forecast():\n",
    "    \n",
    "    def __init__(self, location,user_input_month,user_input_day):\n",
    "        self.location = location\n",
    "        self.forecast_year = (datetime.datetime.now().year)\n",
    "        self.user_input_month = user_input_month\n",
    "        self.user_input_day = user_input_day\n",
    "        self.forecast_date = (datetime.datetime(self.forecast_year,self.user_input_month,self.user_input_day))\n",
    "    \n",
    "    def __get_daily_high(self):\n",
    "        return max(one_day_of_hourly_temperatures)\n",
    "    \n",
    "    def __get_daily_low(self):\n",
    "        return min(one_day_of_hourly_temperatures)\n",
    "    \n",
    "    def __get_daily_chance_of_rain(self):\n",
    "        number_of_years_of_data = 10\n",
    "        times_it_has_rained = 0\n",
    "        \n",
    "        if sum(one_day_of_hourly_rainfall):\n",
    "            times_it_has_rained += 1\n",
    "            \n",
    "        return times_it_has_rained / number_of_years_of_data * 100\n",
    "    \n",
    "    def display_daily_forecast(self):\n",
    "        print(f\"The weather forecast for today in \"\n",
    "              f\"{self.location} is: High of {self.__get_daily_high()}\"\n",
    "              f\", Low of {self.__get_daily_low()}, with a \"\n",
    "              f\"{self.__get_daily_chance_of_rain()}% chance of rain.\")\n",
    "\n",
    "    def display_weekly_forecast(self):\n",
    "        print(f'The week\\'s weather forecast for: \\\n",
    "            \\n   Monday:    High {self.__get_daily_high()}, Low {self.__get_daily_low()}, Rain {self.__get_daily_chance_of_rain()}%\\\n",
    "            \\n   Tuesday:   High {self.__get_daily_high()}, Low {self.__get_daily_low()}, Rain {self.__get_daily_chance_of_rain()}%\\\n",
    "            \\n   Wednesday: High {self.__get_daily_high()}, Low {self.__get_daily_low()}, Rain {self.__get_daily_chance_of_rain()}%\\\n",
    "            \\n   Thursday:  High {self.__get_daily_high()}, Low {self.__get_daily_low()}, Rain {self.__get_daily_chance_of_rain()}%\\\n",
    "            \\n   Friday:    High {self.__get_daily_high()}, Low {self.__get_daily_low()}, Rain {self.__get_daily_chance_of_rain()}%\\\n",
    "            \\n   Saturday:  High {self.__get_daily_high()}, Low {self.__get_daily_low()}, Rain {self.__get_daily_chance_of_rain()}%\\\n",
    "            \\n   Sunday:    High {self.__get_daily_high()}, Low {self.__get_daily_low()}, Rain {self.__get_daily_chance_of_rain()}%')\n",
    "        \n",
    "test = Forecast(\"Austin,TX\", 6,13)\n",
    "test.display_daily_forecast()"
   ]
  },
  {
   "cell_type": "markdown",
   "metadata": {},
   "source": [
    "### Update to Display the Daily Forecast\n",
    "\n",
    "Now it's time to display the dates.\n",
    "\n",
    "1. Add an import for the `calendar` library.\n",
    "2. Create a new _private_ method called `__get_day_of_week()`. _(Note: Because this method is only used within the class, it's prefixed by two underscores)._ This method will accept the integer arguments `month` and `day`. It will return a string such as `'Monday'` for any date we send it.\n",
    "\n",
    "_Hint: The `calendar.day_name`  property can be indexed to return string representation of the integer day of the week. For example, `calendar.day_name[0]` returns `'Monday'` and `calendar.day_name[6]` returns `'Sunday'`._\n",
    "\n",
    "_Hint: The `datetime.datetime.weekday()` method returns the integer of the given `datetime`. For example, `datetime.datetime(1985, 1, 22).weekday()` returns `1`, which is a Tuesday._\n",
    "\n",
    "3. Add the `__get_day_of_week()` result to your `display_daily_forecast()` method.\n",
    "4. Call this method with `self.forecast_date.month` and `self.forecast_date.day`.\n",
    "\n",
    "The output of calling `display_daily_forecast()` should look like this:\n",
    "  \n",
    "> The weather forecast for Tuesday 12/31 in Austin, TX is: High of 82, Low of 65, with a 10.0% chance of rain."
   ]
  },
  {
   "cell_type": "code",
   "execution_count": 3,
   "metadata": {},
   "outputs": [],
   "source": [
    "import calendar"
   ]
  },
  {
   "cell_type": "code",
   "execution_count": 72,
   "metadata": {
    "tags": []
   },
   "outputs": [
    {
     "name": "stdout",
     "output_type": "stream",
     "text": [
      "The weather forecast for Sunday\t6/13 in Austin,TX is: High of 82, Low of 65, with a 10.0% chance of rain.\n"
     ]
    }
   ],
   "source": [
    "# Copy and paste your code from the previous cell and make the above modifications.\n",
    "one_day_of_hourly_temperatures = [67,67,68,69,71,73,75,76,79,81,81,80,82,81,81,80,78,75,72,70,67,65,66,66]\n",
    "one_day_of_hourly_humidity = [60,65,65,70,70,70,70,75,75,75,75,80,80,85,85,85,85,80,80,80,80,80,80,80]\n",
    "one_day_of_hourly_rainfall = [0,0,0,0.1,0.1,0.05,0.1,0.15,0.2,0.3,0.3,0.5,0,0,0,0,0,0,0,0,0,0,0,0]\n",
    "\n",
    "class Forecast():\n",
    "    \n",
    "    def __init__(self, location,user_input_month,user_input_day):\n",
    "        self.location = location\n",
    "        self.forecast_year = (datetime.datetime.now().year)\n",
    "        self.user_input_month = user_input_month\n",
    "        self.user_input_day = user_input_day\n",
    "        self.forecast_date = (datetime.datetime(self.forecast_year,self.user_input_month,self.user_input_day))\n",
    "    \n",
    "    def __get_daily_high(self):\n",
    "        return max(one_day_of_hourly_temperatures)\n",
    "    \n",
    "    def __get_day_of_week(self,month,day):\n",
    "        self.month = month\n",
    "        self.day = day\n",
    "        day_number_week =self.forecast_date.weekday()\n",
    "        str_day_week = (calendar.day_name[day_number_week] + '\\t' + str(self.month)+'/'+str(self.day))\n",
    "        return str_day_week\n",
    "    \n",
    "    def __get_daily_low(self):\n",
    "        return min(one_day_of_hourly_temperatures)\n",
    "    \n",
    "    def __get_daily_chance_of_rain(self):\n",
    "        number_of_years_of_data = 10\n",
    "        times_it_has_rained = 0\n",
    "        \n",
    "        if sum(one_day_of_hourly_rainfall):\n",
    "            times_it_has_rained += 1\n",
    "            \n",
    "        return times_it_has_rained / number_of_years_of_data * 100\n",
    "    \n",
    "    def display_daily_forecast(self):\n",
    "        print(f\"The weather forecast for {self.__get_day_of_week(self.forecast_date.month,self.forecast_date.day)} in \"\n",
    "              f\"{self.location} is: High of {self.__get_daily_high()}\"\n",
    "              f\", Low of {self.__get_daily_low()}, with a \"\n",
    "              f\"{self.__get_daily_chance_of_rain()}% chance of rain.\")\n",
    "\n",
    "    def display_weekly_forecast(self):\n",
    "        print(f'The week\\'s weather forecast for: \\\n",
    "            \\n   Monday:    High {self.__get_daily_high()}, Low {self.__get_daily_low()}, Rain {self.__get_daily_chance_of_rain()}%\\\n",
    "            \\n   Tuesday:   High {self.__get_daily_high()}, Low {self.__get_daily_low()}, Rain {self.__get_daily_chance_of_rain()}%\\\n",
    "            \\n   Wednesday: High {self.__get_daily_high()}, Low {self.__get_daily_low()}, Rain {self.__get_daily_chance_of_rain()}%\\\n",
    "            \\n   Thursday:  High {self.__get_daily_high()}, Low {self.__get_daily_low()}, Rain {self.__get_daily_chance_of_rain()}%\\\n",
    "            \\n   Friday:    High {self.__get_daily_high()}, Low {self.__get_daily_low()}, Rain {self.__get_daily_chance_of_rain()}%\\\n",
    "            \\n   Saturday:  High {self.__get_daily_high()}, Low {self.__get_daily_low()}, Rain {self.__get_daily_chance_of_rain()}%\\\n",
    "            \\n   Sunday:    High {self.__get_daily_high()}, Low {self.__get_daily_low()}, Rain {self.__get_daily_chance_of_rain()}%')\n",
    "        \n",
    "test = Forecast(\"Austin,TX\", 6,13)\n",
    "test.display_daily_forecast()\n"
   ]
  },
  {
   "cell_type": "markdown",
   "metadata": {},
   "source": [
    "### Update to Display the Weekly Forecast\n",
    "\n",
    "- Update the `display_weekly_forecast()` function by reading out the forecast with each day of the forecast listed in both words and numbers. You'll do this with the `datetime.timedelta()` function. Here's an example:\n",
    "\n",
    "```python\n",
    "if current_date = datetime.datetime.now()\n",
    "    tomorrows_date = current_date + datetime.timedelta(day=1)\n",
    "    two_days_from_current_date = current_date + datetime.timedelta(day=2)\n",
    "    three_days_from_current_date = current_date + datetime.timedelta(day=3)\n",
    "    ...\n",
    "```\n",
    "\n",
    "_Hint: Use an iterator to print out all of these unique statements._\n",
    "\n",
    "\n",
    "- The output of `display_weekly_forecast()` should look like:\n",
    "```\n",
    "The week's weather forecast for:\n",
    "    Tuesday, 12/31: High 82, Low 65, Rain 10.0%\n",
    "    Wednesday, 1/1: High 82, Low 65, Rain 10.0%\n",
    "    Thursday, 1/2: High 82, Low 65, Rain 10.0%\n",
    "    Friday, 1/3: High 82, Low 65, Rain 10.0%\n",
    "    Saturday, 1/4: High 82, Low 65, Rain 10.0%\n",
    "    Sunday, 1/5: High 82, Low 65, Rain 10.0%\n",
    "    Monday, 1/6: High 82, Low 65, Rain 10.0%\n",
    "```"
   ]
  },
  {
   "cell_type": "code",
   "execution_count": 77,
   "metadata": {
    "scrolled": true,
    "tags": []
   },
   "outputs": [
    {
     "name": "stdout",
     "output_type": "stream",
     "text": [
      "The weather forecast for Sunday\t6/13 in Austin,TX is: High of 82, Low of 65, with a 10.0% chance of rain.\n"
     ]
    },
    {
     "ename": "TypeError",
     "evalue": "'int' object is not callable",
     "output_type": "error",
     "traceback": [
      "\u001b[0;31m---------------------------------------------------------------------------\u001b[0m",
      "\u001b[0;31mTypeError\u001b[0m                                 Traceback (most recent call last)",
      "\u001b[0;32m<ipython-input-77-3fec19a3541e>\u001b[0m in \u001b[0;36m<module>\u001b[0;34m\u001b[0m\n\u001b[1;32m     77\u001b[0m \u001b[0;34m\u001b[0m\u001b[0m\n\u001b[1;32m     78\u001b[0m \u001b[0mtest\u001b[0m \u001b[0;34m=\u001b[0m \u001b[0mForecast\u001b[0m\u001b[0;34m(\u001b[0m\u001b[0;34m\"Austin,TX\"\u001b[0m\u001b[0;34m,\u001b[0m\u001b[0;36m12\u001b[0m\u001b[0;34m,\u001b[0m\u001b[0;36m31\u001b[0m\u001b[0;34m)\u001b[0m\u001b[0;34m\u001b[0m\u001b[0;34m\u001b[0m\u001b[0m\n\u001b[0;32m---> 79\u001b[0;31m \u001b[0mtest\u001b[0m\u001b[0;34m.\u001b[0m\u001b[0mdisplay_weekly_forecast\u001b[0m\u001b[0;34m(\u001b[0m\u001b[0;34m)\u001b[0m\u001b[0;34m\u001b[0m\u001b[0;34m\u001b[0m\u001b[0m\n\u001b[0m",
      "\u001b[0;32m<ipython-input-77-3fec19a3541e>\u001b[0m in \u001b[0;36mdisplay_weekly_forecast\u001b[0;34m(self)\u001b[0m\n\u001b[1;32m     46\u001b[0m         \u001b[0mday\u001b[0m \u001b[0;34m=\u001b[0m \u001b[0;36m0\u001b[0m\u001b[0;34m\u001b[0m\u001b[0;34m\u001b[0m\u001b[0m\n\u001b[1;32m     47\u001b[0m         \u001b[0mcurrent_date\u001b[0m \u001b[0;34m=\u001b[0m \u001b[0mdatetime\u001b[0m\u001b[0;34m.\u001b[0m\u001b[0mdate\u001b[0m\u001b[0;34m.\u001b[0m\u001b[0mtoday\u001b[0m\u001b[0;34m(\u001b[0m\u001b[0;34m)\u001b[0m\u001b[0;34m\u001b[0m\u001b[0;34m\u001b[0m\u001b[0m\n\u001b[0;32m---> 48\u001b[0;31m         \u001b[0mmonth_1\u001b[0m \u001b[0;34m=\u001b[0m \u001b[0mcurrent_date\u001b[0m\u001b[0;34m.\u001b[0m\u001b[0mmonth\u001b[0m\u001b[0;34m(\u001b[0m\u001b[0;34m)\u001b[0m\u001b[0;34m\u001b[0m\u001b[0;34m\u001b[0m\u001b[0m\n\u001b[0m\u001b[1;32m     49\u001b[0m         \u001b[0mday_name_check\u001b[0m \u001b[0;34m=\u001b[0m \u001b[0;34m(\u001b[0m\u001b[0mdatetime\u001b[0m\u001b[0;34m.\u001b[0m\u001b[0mdatetime\u001b[0m\u001b[0;34m.\u001b[0m\u001b[0mnow\u001b[0m\u001b[0;34m(\u001b[0m\u001b[0;34m)\u001b[0m\u001b[0;34m.\u001b[0m\u001b[0mdate\u001b[0m\u001b[0;34m(\u001b[0m\u001b[0;34m)\u001b[0m\u001b[0;34m.\u001b[0m\u001b[0mweekday\u001b[0m\u001b[0;34m(\u001b[0m\u001b[0;34m)\u001b[0m\u001b[0;34m)\u001b[0m\u001b[0;34m\u001b[0m\u001b[0;34m\u001b[0m\u001b[0m\n\u001b[1;32m     50\u001b[0m         \u001b[0mcurrent_day\u001b[0m \u001b[0;34m=\u001b[0m \u001b[0mcalendar\u001b[0m\u001b[0;34m.\u001b[0m\u001b[0mday_name\u001b[0m\u001b[0;34m[\u001b[0m\u001b[0mday_name_check\u001b[0m\u001b[0;34m]\u001b[0m\u001b[0;34m\u001b[0m\u001b[0;34m\u001b[0m\u001b[0m\n",
      "\u001b[0;31mTypeError\u001b[0m: 'int' object is not callable"
     ]
    }
   ],
   "source": [
    "# Copy and paste your code from the previous cell and make the above modifications.\n",
    "one_day_of_hourly_temperatures = [67,67,68,69,71,73,75,76,79,81,81,80,82,81,81,80,78,75,72,70,67,65,66,66]\n",
    "one_day_of_hourly_humidity = [60,65,65,70,70,70,70,75,75,75,75,80,80,85,85,85,85,80,80,80,80,80,80,80]\n",
    "one_day_of_hourly_rainfall = [0,0,0,0.1,0.1,0.05,0.1,0.15,0.2,0.3,0.3,0.5,0,0,0,0,0,0,0,0,0,0,0,0]\n",
    "\n",
    "class Forecast():\n",
    "    \n",
    "    def __init__(self, location,user_input_month,user_input_day):\n",
    "        self.location = location\n",
    "        self.forecast_year = (datetime.datetime.now().year)\n",
    "        self.user_input_month = user_input_month\n",
    "        self.user_input_day = user_input_day\n",
    "        self.forecast_date = (datetime.datetime(self.forecast_year,self.user_input_month,self.user_input_day))\n",
    "    \n",
    "    def __get_daily_high(self):\n",
    "        return max(one_day_of_hourly_temperatures)\n",
    "    \n",
    "    def __get_day_of_week(self,month,day):\n",
    "        self.month = month\n",
    "        self.day = day\n",
    "        day_number_week =self.forecast_date.weekday()\n",
    "        str_day_week = (calendar.day_name[day_number_week] + '\\t' + str(self.month)+'/'+str(self.day))\n",
    "        return str_day_week\n",
    "    \n",
    "    def __get_daily_low(self):\n",
    "        return min(one_day_of_hourly_temperatures)\n",
    "    \n",
    "    def __get_daily_chance_of_rain(self):\n",
    "        number_of_years_of_data = 10\n",
    "        times_it_has_rained = 0\n",
    "        \n",
    "        if sum(one_day_of_hourly_rainfall):\n",
    "            times_it_has_rained += 1\n",
    "            \n",
    "        return times_it_has_rained / number_of_years_of_data * 100\n",
    "    \n",
    "    def display_daily_forecast(self):\n",
    "        print(f\"The weather forecast for {self.__get_day_of_week(self.forecast_date.month,self.forecast_date.day)} in \"\n",
    "              f\"{self.location} is: High of {self.__get_daily_high()}\"\n",
    "              f\", Low of {self.__get_daily_low()}, with a \"\n",
    "              f\"{self.__get_daily_chance_of_rain()}% chance of rain.\")\n",
    "\n",
    "    def display_weekly_forecast(self):\n",
    "        \n",
    "        current_date = datetime.date.today()\n",
    "        month_1 = current_date.month()\n",
    "        day_name_check = (datetime.datetime.now().date().weekday())\n",
    "        current_day = calendar.day_name[day_name_check]\n",
    "        tommo_day = calendar.day_name[day_name_check + 1]\n",
    "        for today in range(0,6):\n",
    "            current_day = calendar.day_name[day_name_check]\n",
    "            \n",
    "        \n",
    "            if current_date == datetime.datetime.now().date():\n",
    "                tomorrows_date = current_date + datetime.timedelta(days=1)\n",
    "                two_days_from_current_date = current_date + datetime.timedelta(days=2)\n",
    "                three_days_from_current_date = current_date + datetime.timedelta(days=3)\n",
    "                four_days_from_current_date = current_date + datetime.timedelta(days=4)\n",
    "                five_days_from_current_date = current_date + datetime.timedelta(days=5)\n",
    "                six_days_from_current_date = current_date + datetime.timedelta(days=6)\n",
    "\n",
    "\n",
    "\n",
    "        print(f'The week\\'s weather forecast for: \\\n",
    "            \\n   {current_day} {month_1}    High {self.__get_daily_high()}, Low {self.__get_daily_low()}, Rain {self.__get_daily_chance_of_rain()}%\\\n",
    "            \\n   {tommo}   High {self.__get_daily_high()}, Low {self.__get_daily_low()}, Rain {self.__get_daily_chance_of_rain()}%\\\n",
    "            \\n   Wednesday: High {self.__get_daily_high()}, Low {self.__get_daily_low()}, Rain {self.__get_daily_chance_of_rain()}%\\\n",
    "            \\n   Thursday:  High {self.__get_daily_high()}, Low {self.__get_daily_low()}, Rain {self.__get_daily_chance_of_rain()}%\\\n",
    "            \\n   Friday:    High {self.__get_daily_high()}, Low {self.__get_daily_low()}, Rain {self.__get_daily_chance_of_rain()}%\\\n",
    "            \\n   Saturday:  High {self.__get_daily_high()}, Low {self.__get_daily_low()}, Rain {self.__get_daily_chance_of_rain()}%\\\n",
    "            \\n   Sunday:    High {self.__get_daily_high()}, Low {self.__get_daily_low()}, Rain {self.__get_daily_chance_of_rain()}%')\n",
    "\n",
    "test = Forecast(\"Austin,TX\", 6,13)\n",
    "test.display_daily_forecast()\n",
    "\n",
    "test = Forecast(\"Austin,TX\",12,31)\n",
    "test.display_weekly_forecast()"
   ]
  },
  {
   "cell_type": "markdown",
   "metadata": {},
   "source": [
    "### Adding Real Weather Data\n",
    "\n",
    "- Import the Pandas library.\n",
    "- Read in the following four columns from the `raw_weather_data.csv` file, located in `./data`. Place the resulting DataFrame into a variable named `hourly_weather_data`.\n",
    "  - `DATE`\n",
    "  - `REPORT_TYPE`\n",
    "  - `HourlyDryBulbTemperature`\n",
    "  - `HourlyPrecipitation`\n",
    "- Print the shape of the DataFrame.\n",
    "- Print the first 10 rows of the DataFrame."
   ]
  },
  {
   "cell_type": "code",
   "execution_count": null,
   "metadata": {
    "collapsed": true,
    "jupyter": {
     "outputs_hidden": true
    }
   },
   "outputs": [],
   "source": [
    "# Enter your code below:\n"
   ]
  },
  {
   "cell_type": "markdown",
   "metadata": {},
   "source": [
    "### Observing Data Types\n",
    "\n",
    "- Print the `dtypes` attribute of the DataFrame.\n",
    "- How is our `DATE` column being stored?"
   ]
  },
  {
   "cell_type": "code",
   "execution_count": null,
   "metadata": {
    "collapsed": true,
    "jupyter": {
     "outputs_hidden": true
    }
   },
   "outputs": [],
   "source": [
    "# Enter your code below:\n"
   ]
  },
  {
   "cell_type": "markdown",
   "metadata": {},
   "source": [
    "### Parsing Dates\n",
    "\n",
    "Our `DATE` column was brought in as an object (string) type because Pandas doesn't know how to interpret a cell filled with numbers and strings, so it defaults to the more general string type. \n",
    "\n",
    "In Lab 6, we'll need to be able to regroup our data based on different time intervals. To do this, we need to convert all of the dates in the `DATE` column (string/object type) into `datetime` objects. \n",
    "\n",
    "We can accomplish this by adding the `parse_dates=[\"DATE\"]` parameter to our `pd.read_csv()` function.\n",
    "\n",
    "- Run the `pd.read_csv()` function again with the added `parse_dates` parameter. \n",
    "- Print out the `dataframe.dtypes` and inspect the result. Is it different?\n",
    "- Print out the first 10 rows of the DataFrame again."
   ]
  },
  {
   "cell_type": "code",
   "execution_count": null,
   "metadata": {
    "collapsed": true,
    "jupyter": {
     "outputs_hidden": true
    }
   },
   "outputs": [],
   "source": [
    "# Enter your code below:\n"
   ]
  },
  {
   "cell_type": "markdown",
   "metadata": {},
   "source": [
    "### Setting Our Index\n",
    "\n",
    "Now we need to tell Pandas that we want to index all of our data by the `DATE` column rather than by the row number. We can also do this in our `pd.read_csv()` function by adding another parameter, `index_col=\"DATE\"`.\n",
    "\n",
    "- Run the `pd.read_csv()` function again with both the added `parse_dates=[\"DATE\"]` and `index_col=\"DATE\"` parameters. \n",
    "- Print out the first 10 rows of the DataFrame."
   ]
  },
  {
   "cell_type": "code",
   "execution_count": null,
   "metadata": {
    "collapsed": true,
    "jupyter": {
     "outputs_hidden": true
    }
   },
   "outputs": [],
   "source": [
    "# Enter your code below:\n"
   ]
  }
 ],
 "metadata": {
  "kernelspec": {
   "display_name": "Python 3",
   "language": "python",
   "name": "python3"
  },
  "language_info": {
   "codemirror_mode": {
    "name": "ipython",
    "version": 3
   },
   "file_extension": ".py",
   "mimetype": "text/x-python",
   "name": "python",
   "nbconvert_exporter": "python",
   "pygments_lexer": "ipython3",
   "version": "3.8.8"
  }
 },
 "nbformat": 4,
 "nbformat_minor": 4
}
